{
 "cells": [
  {
   "cell_type": "markdown",
   "metadata": {
    "id": "0O3oLm8x_XMV"
   },
   "source": [
    "#                         Real Estate Data Analysis\n",
    "Data Source: KC House Data CSV file\n",
    "\n",
    "Data Relevancy: The dataset contains columns such as Price, Condition, Grade which contribute to how inefficient real estate                     system contributes to poor classification\n",
    "\n",
    "The dataset needs cleaning before analysis is made."
   ]
  },
  {
   "cell_type": "code",
   "execution_count": 1,
   "metadata": {
    "id": "T3zYswuHQLZC"
   },
   "outputs": [],
   "source": [
    "# importing necessary libraries\n",
    "import numpy as np\n",
    "import pandas as pd\n",
    "import matplotlib.pyplot as plt\n",
    "import seaborn as sns"
   ]
  },
  {
   "cell_type": "code",
   "execution_count": 2,
   "metadata": {
    "colab": {
     "base_uri": "https://localhost:8080/",
     "height": 245
    },
    "id": "ClqgThhBQYmk",
    "outputId": "f92facd5-e62c-4840-c120-2a4c0db0919d"
   },
   "outputs": [
    {
     "data": {
      "text/html": [
       "<div>\n",
       "<style scoped>\n",
       "    .dataframe tbody tr th:only-of-type {\n",
       "        vertical-align: middle;\n",
       "    }\n",
       "\n",
       "    .dataframe tbody tr th {\n",
       "        vertical-align: top;\n",
       "    }\n",
       "\n",
       "    .dataframe thead th {\n",
       "        text-align: right;\n",
       "    }\n",
       "</style>\n",
       "<table border=\"1\" class=\"dataframe\">\n",
       "  <thead>\n",
       "    <tr style=\"text-align: right;\">\n",
       "      <th></th>\n",
       "      <th>id</th>\n",
       "      <th>date</th>\n",
       "      <th>price</th>\n",
       "      <th>bedrooms</th>\n",
       "      <th>bathrooms</th>\n",
       "      <th>sqft_living</th>\n",
       "      <th>sqft_lot</th>\n",
       "      <th>floors</th>\n",
       "      <th>waterfront</th>\n",
       "      <th>view</th>\n",
       "      <th>...</th>\n",
       "      <th>grade</th>\n",
       "      <th>sqft_above</th>\n",
       "      <th>sqft_basement</th>\n",
       "      <th>yr_built</th>\n",
       "      <th>yr_renovated</th>\n",
       "      <th>zipcode</th>\n",
       "      <th>lat</th>\n",
       "      <th>long</th>\n",
       "      <th>sqft_living15</th>\n",
       "      <th>sqft_lot15</th>\n",
       "    </tr>\n",
       "  </thead>\n",
       "  <tbody>\n",
       "    <tr>\n",
       "      <th>0</th>\n",
       "      <td>7129300520</td>\n",
       "      <td>10/13/2014</td>\n",
       "      <td>221900.0</td>\n",
       "      <td>3</td>\n",
       "      <td>1.00</td>\n",
       "      <td>1180</td>\n",
       "      <td>5650</td>\n",
       "      <td>1.0</td>\n",
       "      <td>NaN</td>\n",
       "      <td>NONE</td>\n",
       "      <td>...</td>\n",
       "      <td>7 Average</td>\n",
       "      <td>1180</td>\n",
       "      <td>0.0</td>\n",
       "      <td>1955</td>\n",
       "      <td>0.0</td>\n",
       "      <td>98178</td>\n",
       "      <td>47.5112</td>\n",
       "      <td>-122.257</td>\n",
       "      <td>1340</td>\n",
       "      <td>5650</td>\n",
       "    </tr>\n",
       "    <tr>\n",
       "      <th>1</th>\n",
       "      <td>6414100192</td>\n",
       "      <td>12/9/2014</td>\n",
       "      <td>538000.0</td>\n",
       "      <td>3</td>\n",
       "      <td>2.25</td>\n",
       "      <td>2570</td>\n",
       "      <td>7242</td>\n",
       "      <td>2.0</td>\n",
       "      <td>NO</td>\n",
       "      <td>NONE</td>\n",
       "      <td>...</td>\n",
       "      <td>7 Average</td>\n",
       "      <td>2170</td>\n",
       "      <td>400.0</td>\n",
       "      <td>1951</td>\n",
       "      <td>1991.0</td>\n",
       "      <td>98125</td>\n",
       "      <td>47.7210</td>\n",
       "      <td>-122.319</td>\n",
       "      <td>1690</td>\n",
       "      <td>7639</td>\n",
       "    </tr>\n",
       "    <tr>\n",
       "      <th>2</th>\n",
       "      <td>5631500400</td>\n",
       "      <td>2/25/2015</td>\n",
       "      <td>180000.0</td>\n",
       "      <td>2</td>\n",
       "      <td>1.00</td>\n",
       "      <td>770</td>\n",
       "      <td>10000</td>\n",
       "      <td>1.0</td>\n",
       "      <td>NO</td>\n",
       "      <td>NONE</td>\n",
       "      <td>...</td>\n",
       "      <td>6 Low Average</td>\n",
       "      <td>770</td>\n",
       "      <td>0.0</td>\n",
       "      <td>1933</td>\n",
       "      <td>NaN</td>\n",
       "      <td>98028</td>\n",
       "      <td>47.7379</td>\n",
       "      <td>-122.233</td>\n",
       "      <td>2720</td>\n",
       "      <td>8062</td>\n",
       "    </tr>\n",
       "  </tbody>\n",
       "</table>\n",
       "<p>3 rows × 21 columns</p>\n",
       "</div>"
      ],
      "text/plain": [
       "           id        date     price  bedrooms  bathrooms  sqft_living  \\\n",
       "0  7129300520  10/13/2014  221900.0         3       1.00         1180   \n",
       "1  6414100192   12/9/2014  538000.0         3       2.25         2570   \n",
       "2  5631500400   2/25/2015  180000.0         2       1.00          770   \n",
       "\n",
       "   sqft_lot  floors waterfront  view  ...          grade sqft_above  \\\n",
       "0      5650     1.0        NaN  NONE  ...      7 Average       1180   \n",
       "1      7242     2.0         NO  NONE  ...      7 Average       2170   \n",
       "2     10000     1.0         NO  NONE  ...  6 Low Average        770   \n",
       "\n",
       "   sqft_basement yr_built  yr_renovated  zipcode      lat     long  \\\n",
       "0            0.0     1955           0.0    98178  47.5112 -122.257   \n",
       "1          400.0     1951        1991.0    98125  47.7210 -122.319   \n",
       "2            0.0     1933           NaN    98028  47.7379 -122.233   \n",
       "\n",
       "   sqft_living15  sqft_lot15  \n",
       "0           1340        5650  \n",
       "1           1690        7639  \n",
       "2           2720        8062  \n",
       "\n",
       "[3 rows x 21 columns]"
      ]
     },
     "execution_count": 2,
     "metadata": {},
     "output_type": "execute_result"
    }
   ],
   "source": [
    "# fetching the dataset\n",
    "house = pd.read_csv(\"kc_house_data.csv\")\n",
    "house.head(3)"
   ]
  },
  {
   "cell_type": "code",
   "execution_count": 3,
   "metadata": {
    "colab": {
     "base_uri": "https://localhost:8080/",
     "height": 290
    },
    "id": "0Mgb7QCiQ8RA",
    "outputId": "291182a2-fe85-4d1e-f9d1-48c000df4405"
   },
   "outputs": [
    {
     "data": {
      "text/html": [
       "<div>\n",
       "<style scoped>\n",
       "    .dataframe tbody tr th:only-of-type {\n",
       "        vertical-align: middle;\n",
       "    }\n",
       "\n",
       "    .dataframe tbody tr th {\n",
       "        vertical-align: top;\n",
       "    }\n",
       "\n",
       "    .dataframe thead th {\n",
       "        text-align: right;\n",
       "    }\n",
       "</style>\n",
       "<table border=\"1\" class=\"dataframe\">\n",
       "  <thead>\n",
       "    <tr style=\"text-align: right;\">\n",
       "      <th></th>\n",
       "      <th>id</th>\n",
       "      <th>date</th>\n",
       "      <th>price</th>\n",
       "      <th>bedrooms</th>\n",
       "      <th>bathrooms</th>\n",
       "      <th>sqft_living</th>\n",
       "      <th>sqft_lot</th>\n",
       "      <th>floors</th>\n",
       "      <th>waterfront</th>\n",
       "      <th>view</th>\n",
       "      <th>...</th>\n",
       "      <th>grade</th>\n",
       "      <th>sqft_above</th>\n",
       "      <th>sqft_basement</th>\n",
       "      <th>yr_built</th>\n",
       "      <th>yr_renovated</th>\n",
       "      <th>zipcode</th>\n",
       "      <th>lat</th>\n",
       "      <th>long</th>\n",
       "      <th>sqft_living15</th>\n",
       "      <th>sqft_lot15</th>\n",
       "    </tr>\n",
       "  </thead>\n",
       "  <tbody>\n",
       "    <tr>\n",
       "      <th>21592</th>\n",
       "      <td>263000018</td>\n",
       "      <td>5/21/2014</td>\n",
       "      <td>360000.0</td>\n",
       "      <td>3</td>\n",
       "      <td>2.50</td>\n",
       "      <td>1530</td>\n",
       "      <td>1131</td>\n",
       "      <td>3.0</td>\n",
       "      <td>NO</td>\n",
       "      <td>NONE</td>\n",
       "      <td>...</td>\n",
       "      <td>8 Good</td>\n",
       "      <td>1530</td>\n",
       "      <td>0.0</td>\n",
       "      <td>2009</td>\n",
       "      <td>0.0</td>\n",
       "      <td>98103</td>\n",
       "      <td>47.6993</td>\n",
       "      <td>-122.346</td>\n",
       "      <td>1530</td>\n",
       "      <td>1509</td>\n",
       "    </tr>\n",
       "    <tr>\n",
       "      <th>21593</th>\n",
       "      <td>6600060120</td>\n",
       "      <td>2/23/2015</td>\n",
       "      <td>400000.0</td>\n",
       "      <td>4</td>\n",
       "      <td>2.50</td>\n",
       "      <td>2310</td>\n",
       "      <td>5813</td>\n",
       "      <td>2.0</td>\n",
       "      <td>NO</td>\n",
       "      <td>NONE</td>\n",
       "      <td>...</td>\n",
       "      <td>8 Good</td>\n",
       "      <td>2310</td>\n",
       "      <td>0.0</td>\n",
       "      <td>2014</td>\n",
       "      <td>0.0</td>\n",
       "      <td>98146</td>\n",
       "      <td>47.5107</td>\n",
       "      <td>-122.362</td>\n",
       "      <td>1830</td>\n",
       "      <td>7200</td>\n",
       "    </tr>\n",
       "    <tr>\n",
       "      <th>21594</th>\n",
       "      <td>1523300141</td>\n",
       "      <td>6/23/2014</td>\n",
       "      <td>402101.0</td>\n",
       "      <td>2</td>\n",
       "      <td>0.75</td>\n",
       "      <td>1020</td>\n",
       "      <td>1350</td>\n",
       "      <td>2.0</td>\n",
       "      <td>NO</td>\n",
       "      <td>NONE</td>\n",
       "      <td>...</td>\n",
       "      <td>7 Average</td>\n",
       "      <td>1020</td>\n",
       "      <td>0.0</td>\n",
       "      <td>2009</td>\n",
       "      <td>0.0</td>\n",
       "      <td>98144</td>\n",
       "      <td>47.5944</td>\n",
       "      <td>-122.299</td>\n",
       "      <td>1020</td>\n",
       "      <td>2007</td>\n",
       "    </tr>\n",
       "    <tr>\n",
       "      <th>21595</th>\n",
       "      <td>291310100</td>\n",
       "      <td>1/16/2015</td>\n",
       "      <td>400000.0</td>\n",
       "      <td>3</td>\n",
       "      <td>2.50</td>\n",
       "      <td>1600</td>\n",
       "      <td>2388</td>\n",
       "      <td>2.0</td>\n",
       "      <td>NaN</td>\n",
       "      <td>NONE</td>\n",
       "      <td>...</td>\n",
       "      <td>8 Good</td>\n",
       "      <td>1600</td>\n",
       "      <td>0.0</td>\n",
       "      <td>2004</td>\n",
       "      <td>0.0</td>\n",
       "      <td>98027</td>\n",
       "      <td>47.5345</td>\n",
       "      <td>-122.069</td>\n",
       "      <td>1410</td>\n",
       "      <td>1287</td>\n",
       "    </tr>\n",
       "    <tr>\n",
       "      <th>21596</th>\n",
       "      <td>1523300157</td>\n",
       "      <td>10/15/2014</td>\n",
       "      <td>325000.0</td>\n",
       "      <td>2</td>\n",
       "      <td>0.75</td>\n",
       "      <td>1020</td>\n",
       "      <td>1076</td>\n",
       "      <td>2.0</td>\n",
       "      <td>NO</td>\n",
       "      <td>NONE</td>\n",
       "      <td>...</td>\n",
       "      <td>7 Average</td>\n",
       "      <td>1020</td>\n",
       "      <td>0.0</td>\n",
       "      <td>2008</td>\n",
       "      <td>0.0</td>\n",
       "      <td>98144</td>\n",
       "      <td>47.5941</td>\n",
       "      <td>-122.299</td>\n",
       "      <td>1020</td>\n",
       "      <td>1357</td>\n",
       "    </tr>\n",
       "  </tbody>\n",
       "</table>\n",
       "<p>5 rows × 21 columns</p>\n",
       "</div>"
      ],
      "text/plain": [
       "               id        date     price  bedrooms  bathrooms  sqft_living  \\\n",
       "21592   263000018   5/21/2014  360000.0         3       2.50         1530   \n",
       "21593  6600060120   2/23/2015  400000.0         4       2.50         2310   \n",
       "21594  1523300141   6/23/2014  402101.0         2       0.75         1020   \n",
       "21595   291310100   1/16/2015  400000.0         3       2.50         1600   \n",
       "21596  1523300157  10/15/2014  325000.0         2       0.75         1020   \n",
       "\n",
       "       sqft_lot  floors waterfront  view  ...      grade sqft_above  \\\n",
       "21592      1131     3.0         NO  NONE  ...     8 Good       1530   \n",
       "21593      5813     2.0         NO  NONE  ...     8 Good       2310   \n",
       "21594      1350     2.0         NO  NONE  ...  7 Average       1020   \n",
       "21595      2388     2.0        NaN  NONE  ...     8 Good       1600   \n",
       "21596      1076     2.0         NO  NONE  ...  7 Average       1020   \n",
       "\n",
       "       sqft_basement yr_built  yr_renovated  zipcode      lat     long  \\\n",
       "21592            0.0     2009           0.0    98103  47.6993 -122.346   \n",
       "21593            0.0     2014           0.0    98146  47.5107 -122.362   \n",
       "21594            0.0     2009           0.0    98144  47.5944 -122.299   \n",
       "21595            0.0     2004           0.0    98027  47.5345 -122.069   \n",
       "21596            0.0     2008           0.0    98144  47.5941 -122.299   \n",
       "\n",
       "       sqft_living15  sqft_lot15  \n",
       "21592           1530        1509  \n",
       "21593           1830        7200  \n",
       "21594           1020        2007  \n",
       "21595           1410        1287  \n",
       "21596           1020        1357  \n",
       "\n",
       "[5 rows x 21 columns]"
      ]
     },
     "execution_count": 3,
     "metadata": {},
     "output_type": "execute_result"
    }
   ],
   "source": [
    "house.tail()"
   ]
  },
  {
   "cell_type": "code",
   "execution_count": 4,
   "metadata": {
    "colab": {
     "base_uri": "https://localhost:8080/"
    },
    "id": "SMEFq_MsR6pI",
    "outputId": "2f0ac4cb-7ec0-43e6-a983-6a44c8c1d4f3"
   },
   "outputs": [
    {
     "data": {
      "text/plain": [
       "(21597, 21)"
      ]
     },
     "execution_count": 4,
     "metadata": {},
     "output_type": "execute_result"
    }
   ],
   "source": [
    "# checking the shape\n",
    "house.shape"
   ]
  },
  {
   "cell_type": "code",
   "execution_count": 5,
   "metadata": {
    "colab": {
     "base_uri": "https://localhost:8080/"
    },
    "id": "Ic88put4SCYk",
    "outputId": "042c2303-798c-437b-e7a9-d3effaada62d"
   },
   "outputs": [
    {
     "name": "stdout",
     "output_type": "stream",
     "text": [
      "<class 'pandas.core.frame.DataFrame'>\n",
      "RangeIndex: 21597 entries, 0 to 21596\n",
      "Data columns (total 21 columns):\n",
      " #   Column         Non-Null Count  Dtype  \n",
      "---  ------         --------------  -----  \n",
      " 0   id             21597 non-null  int64  \n",
      " 1   date           21597 non-null  object \n",
      " 2   price          21597 non-null  float64\n",
      " 3   bedrooms       21597 non-null  int64  \n",
      " 4   bathrooms      21597 non-null  float64\n",
      " 5   sqft_living    21597 non-null  int64  \n",
      " 6   sqft_lot       21597 non-null  int64  \n",
      " 7   floors         21597 non-null  float64\n",
      " 8   waterfront     19221 non-null  object \n",
      " 9   view           21534 non-null  object \n",
      " 10  condition      21597 non-null  object \n",
      " 11  grade          21597 non-null  object \n",
      " 12  sqft_above     21597 non-null  int64  \n",
      " 13  sqft_basement  21597 non-null  object \n",
      " 14  yr_built       21597 non-null  int64  \n",
      " 15  yr_renovated   17755 non-null  float64\n",
      " 16  zipcode        21597 non-null  int64  \n",
      " 17  lat            21597 non-null  float64\n",
      " 18  long           21597 non-null  float64\n",
      " 19  sqft_living15  21597 non-null  int64  \n",
      " 20  sqft_lot15     21597 non-null  int64  \n",
      "dtypes: float64(6), int64(9), object(6)\n",
      "memory usage: 3.5+ MB\n"
     ]
    }
   ],
   "source": [
    "# checking the dataset info\n",
    "house.info()"
   ]
  },
  {
   "cell_type": "code",
   "execution_count": 6,
   "metadata": {
    "colab": {
     "base_uri": "https://localhost:8080/",
     "height": 519
    },
    "id": "swr8KSgvSQct",
    "outputId": "8cdcac8c-a515-4f45-b84f-9e324c93e598"
   },
   "outputs": [
    {
     "data": {
      "text/html": [
       "<div>\n",
       "<style scoped>\n",
       "    .dataframe tbody tr th:only-of-type {\n",
       "        vertical-align: middle;\n",
       "    }\n",
       "\n",
       "    .dataframe tbody tr th {\n",
       "        vertical-align: top;\n",
       "    }\n",
       "\n",
       "    .dataframe thead th {\n",
       "        text-align: right;\n",
       "    }\n",
       "</style>\n",
       "<table border=\"1\" class=\"dataframe\">\n",
       "  <thead>\n",
       "    <tr style=\"text-align: right;\">\n",
       "      <th></th>\n",
       "      <th>count</th>\n",
       "      <th>mean</th>\n",
       "      <th>std</th>\n",
       "      <th>min</th>\n",
       "      <th>25%</th>\n",
       "      <th>50%</th>\n",
       "      <th>75%</th>\n",
       "      <th>max</th>\n",
       "    </tr>\n",
       "  </thead>\n",
       "  <tbody>\n",
       "    <tr>\n",
       "      <th>id</th>\n",
       "      <td>21597.0</td>\n",
       "      <td>4.580474e+09</td>\n",
       "      <td>2.876736e+09</td>\n",
       "      <td>1.000102e+06</td>\n",
       "      <td>2.123049e+09</td>\n",
       "      <td>3.904930e+09</td>\n",
       "      <td>7.308900e+09</td>\n",
       "      <td>9.900000e+09</td>\n",
       "    </tr>\n",
       "    <tr>\n",
       "      <th>price</th>\n",
       "      <td>21597.0</td>\n",
       "      <td>5.402966e+05</td>\n",
       "      <td>3.673681e+05</td>\n",
       "      <td>7.800000e+04</td>\n",
       "      <td>3.220000e+05</td>\n",
       "      <td>4.500000e+05</td>\n",
       "      <td>6.450000e+05</td>\n",
       "      <td>7.700000e+06</td>\n",
       "    </tr>\n",
       "    <tr>\n",
       "      <th>bedrooms</th>\n",
       "      <td>21597.0</td>\n",
       "      <td>3.373200e+00</td>\n",
       "      <td>9.262989e-01</td>\n",
       "      <td>1.000000e+00</td>\n",
       "      <td>3.000000e+00</td>\n",
       "      <td>3.000000e+00</td>\n",
       "      <td>4.000000e+00</td>\n",
       "      <td>3.300000e+01</td>\n",
       "    </tr>\n",
       "    <tr>\n",
       "      <th>bathrooms</th>\n",
       "      <td>21597.0</td>\n",
       "      <td>2.115826e+00</td>\n",
       "      <td>7.689843e-01</td>\n",
       "      <td>5.000000e-01</td>\n",
       "      <td>1.750000e+00</td>\n",
       "      <td>2.250000e+00</td>\n",
       "      <td>2.500000e+00</td>\n",
       "      <td>8.000000e+00</td>\n",
       "    </tr>\n",
       "    <tr>\n",
       "      <th>sqft_living</th>\n",
       "      <td>21597.0</td>\n",
       "      <td>2.080322e+03</td>\n",
       "      <td>9.181061e+02</td>\n",
       "      <td>3.700000e+02</td>\n",
       "      <td>1.430000e+03</td>\n",
       "      <td>1.910000e+03</td>\n",
       "      <td>2.550000e+03</td>\n",
       "      <td>1.354000e+04</td>\n",
       "    </tr>\n",
       "    <tr>\n",
       "      <th>sqft_lot</th>\n",
       "      <td>21597.0</td>\n",
       "      <td>1.509941e+04</td>\n",
       "      <td>4.141264e+04</td>\n",
       "      <td>5.200000e+02</td>\n",
       "      <td>5.040000e+03</td>\n",
       "      <td>7.618000e+03</td>\n",
       "      <td>1.068500e+04</td>\n",
       "      <td>1.651359e+06</td>\n",
       "    </tr>\n",
       "    <tr>\n",
       "      <th>floors</th>\n",
       "      <td>21597.0</td>\n",
       "      <td>1.494096e+00</td>\n",
       "      <td>5.396828e-01</td>\n",
       "      <td>1.000000e+00</td>\n",
       "      <td>1.000000e+00</td>\n",
       "      <td>1.500000e+00</td>\n",
       "      <td>2.000000e+00</td>\n",
       "      <td>3.500000e+00</td>\n",
       "    </tr>\n",
       "    <tr>\n",
       "      <th>sqft_above</th>\n",
       "      <td>21597.0</td>\n",
       "      <td>1.788597e+03</td>\n",
       "      <td>8.277598e+02</td>\n",
       "      <td>3.700000e+02</td>\n",
       "      <td>1.190000e+03</td>\n",
       "      <td>1.560000e+03</td>\n",
       "      <td>2.210000e+03</td>\n",
       "      <td>9.410000e+03</td>\n",
       "    </tr>\n",
       "    <tr>\n",
       "      <th>yr_built</th>\n",
       "      <td>21597.0</td>\n",
       "      <td>1.971000e+03</td>\n",
       "      <td>2.937523e+01</td>\n",
       "      <td>1.900000e+03</td>\n",
       "      <td>1.951000e+03</td>\n",
       "      <td>1.975000e+03</td>\n",
       "      <td>1.997000e+03</td>\n",
       "      <td>2.015000e+03</td>\n",
       "    </tr>\n",
       "    <tr>\n",
       "      <th>yr_renovated</th>\n",
       "      <td>17755.0</td>\n",
       "      <td>8.363678e+01</td>\n",
       "      <td>3.999464e+02</td>\n",
       "      <td>0.000000e+00</td>\n",
       "      <td>0.000000e+00</td>\n",
       "      <td>0.000000e+00</td>\n",
       "      <td>0.000000e+00</td>\n",
       "      <td>2.015000e+03</td>\n",
       "    </tr>\n",
       "    <tr>\n",
       "      <th>zipcode</th>\n",
       "      <td>21597.0</td>\n",
       "      <td>9.807795e+04</td>\n",
       "      <td>5.351307e+01</td>\n",
       "      <td>9.800100e+04</td>\n",
       "      <td>9.803300e+04</td>\n",
       "      <td>9.806500e+04</td>\n",
       "      <td>9.811800e+04</td>\n",
       "      <td>9.819900e+04</td>\n",
       "    </tr>\n",
       "    <tr>\n",
       "      <th>lat</th>\n",
       "      <td>21597.0</td>\n",
       "      <td>4.756009e+01</td>\n",
       "      <td>1.385518e-01</td>\n",
       "      <td>4.715590e+01</td>\n",
       "      <td>4.747110e+01</td>\n",
       "      <td>4.757180e+01</td>\n",
       "      <td>4.767800e+01</td>\n",
       "      <td>4.777760e+01</td>\n",
       "    </tr>\n",
       "    <tr>\n",
       "      <th>long</th>\n",
       "      <td>21597.0</td>\n",
       "      <td>-1.222140e+02</td>\n",
       "      <td>1.407235e-01</td>\n",
       "      <td>-1.225190e+02</td>\n",
       "      <td>-1.223280e+02</td>\n",
       "      <td>-1.222310e+02</td>\n",
       "      <td>-1.221250e+02</td>\n",
       "      <td>-1.213150e+02</td>\n",
       "    </tr>\n",
       "    <tr>\n",
       "      <th>sqft_living15</th>\n",
       "      <td>21597.0</td>\n",
       "      <td>1.986620e+03</td>\n",
       "      <td>6.852305e+02</td>\n",
       "      <td>3.990000e+02</td>\n",
       "      <td>1.490000e+03</td>\n",
       "      <td>1.840000e+03</td>\n",
       "      <td>2.360000e+03</td>\n",
       "      <td>6.210000e+03</td>\n",
       "    </tr>\n",
       "    <tr>\n",
       "      <th>sqft_lot15</th>\n",
       "      <td>21597.0</td>\n",
       "      <td>1.275828e+04</td>\n",
       "      <td>2.727444e+04</td>\n",
       "      <td>6.510000e+02</td>\n",
       "      <td>5.100000e+03</td>\n",
       "      <td>7.620000e+03</td>\n",
       "      <td>1.008300e+04</td>\n",
       "      <td>8.712000e+05</td>\n",
       "    </tr>\n",
       "  </tbody>\n",
       "</table>\n",
       "</div>"
      ],
      "text/plain": [
       "                 count          mean           std           min  \\\n",
       "id             21597.0  4.580474e+09  2.876736e+09  1.000102e+06   \n",
       "price          21597.0  5.402966e+05  3.673681e+05  7.800000e+04   \n",
       "bedrooms       21597.0  3.373200e+00  9.262989e-01  1.000000e+00   \n",
       "bathrooms      21597.0  2.115826e+00  7.689843e-01  5.000000e-01   \n",
       "sqft_living    21597.0  2.080322e+03  9.181061e+02  3.700000e+02   \n",
       "sqft_lot       21597.0  1.509941e+04  4.141264e+04  5.200000e+02   \n",
       "floors         21597.0  1.494096e+00  5.396828e-01  1.000000e+00   \n",
       "sqft_above     21597.0  1.788597e+03  8.277598e+02  3.700000e+02   \n",
       "yr_built       21597.0  1.971000e+03  2.937523e+01  1.900000e+03   \n",
       "yr_renovated   17755.0  8.363678e+01  3.999464e+02  0.000000e+00   \n",
       "zipcode        21597.0  9.807795e+04  5.351307e+01  9.800100e+04   \n",
       "lat            21597.0  4.756009e+01  1.385518e-01  4.715590e+01   \n",
       "long           21597.0 -1.222140e+02  1.407235e-01 -1.225190e+02   \n",
       "sqft_living15  21597.0  1.986620e+03  6.852305e+02  3.990000e+02   \n",
       "sqft_lot15     21597.0  1.275828e+04  2.727444e+04  6.510000e+02   \n",
       "\n",
       "                        25%           50%           75%           max  \n",
       "id             2.123049e+09  3.904930e+09  7.308900e+09  9.900000e+09  \n",
       "price          3.220000e+05  4.500000e+05  6.450000e+05  7.700000e+06  \n",
       "bedrooms       3.000000e+00  3.000000e+00  4.000000e+00  3.300000e+01  \n",
       "bathrooms      1.750000e+00  2.250000e+00  2.500000e+00  8.000000e+00  \n",
       "sqft_living    1.430000e+03  1.910000e+03  2.550000e+03  1.354000e+04  \n",
       "sqft_lot       5.040000e+03  7.618000e+03  1.068500e+04  1.651359e+06  \n",
       "floors         1.000000e+00  1.500000e+00  2.000000e+00  3.500000e+00  \n",
       "sqft_above     1.190000e+03  1.560000e+03  2.210000e+03  9.410000e+03  \n",
       "yr_built       1.951000e+03  1.975000e+03  1.997000e+03  2.015000e+03  \n",
       "yr_renovated   0.000000e+00  0.000000e+00  0.000000e+00  2.015000e+03  \n",
       "zipcode        9.803300e+04  9.806500e+04  9.811800e+04  9.819900e+04  \n",
       "lat            4.747110e+01  4.757180e+01  4.767800e+01  4.777760e+01  \n",
       "long          -1.223280e+02 -1.222310e+02 -1.221250e+02 -1.213150e+02  \n",
       "sqft_living15  1.490000e+03  1.840000e+03  2.360000e+03  6.210000e+03  \n",
       "sqft_lot15     5.100000e+03  7.620000e+03  1.008300e+04  8.712000e+05  "
      ]
     },
     "execution_count": 6,
     "metadata": {},
     "output_type": "execute_result"
    }
   ],
   "source": [
    "# checking concise summary stats\n",
    "house.describe().T"
   ]
  },
  {
   "cell_type": "code",
   "execution_count": 7,
   "metadata": {
    "colab": {
     "base_uri": "https://localhost:8080/",
     "height": 174
    },
    "id": "QugadTIVSgw7",
    "outputId": "35380b0c-05dd-411f-bd1c-37af643cdd2c"
   },
   "outputs": [
    {
     "data": {
      "text/html": [
       "<div>\n",
       "<style scoped>\n",
       "    .dataframe tbody tr th:only-of-type {\n",
       "        vertical-align: middle;\n",
       "    }\n",
       "\n",
       "    .dataframe tbody tr th {\n",
       "        vertical-align: top;\n",
       "    }\n",
       "\n",
       "    .dataframe thead th {\n",
       "        text-align: right;\n",
       "    }\n",
       "</style>\n",
       "<table border=\"1\" class=\"dataframe\">\n",
       "  <thead>\n",
       "    <tr style=\"text-align: right;\">\n",
       "      <th></th>\n",
       "      <th>date</th>\n",
       "      <th>waterfront</th>\n",
       "      <th>view</th>\n",
       "      <th>condition</th>\n",
       "      <th>grade</th>\n",
       "      <th>sqft_basement</th>\n",
       "    </tr>\n",
       "  </thead>\n",
       "  <tbody>\n",
       "    <tr>\n",
       "      <th>count</th>\n",
       "      <td>21597</td>\n",
       "      <td>19221</td>\n",
       "      <td>21534</td>\n",
       "      <td>21597</td>\n",
       "      <td>21597</td>\n",
       "      <td>21597</td>\n",
       "    </tr>\n",
       "    <tr>\n",
       "      <th>unique</th>\n",
       "      <td>372</td>\n",
       "      <td>2</td>\n",
       "      <td>5</td>\n",
       "      <td>5</td>\n",
       "      <td>11</td>\n",
       "      <td>304</td>\n",
       "    </tr>\n",
       "    <tr>\n",
       "      <th>top</th>\n",
       "      <td>6/23/2014</td>\n",
       "      <td>NO</td>\n",
       "      <td>NONE</td>\n",
       "      <td>Average</td>\n",
       "      <td>7 Average</td>\n",
       "      <td>0.0</td>\n",
       "    </tr>\n",
       "    <tr>\n",
       "      <th>freq</th>\n",
       "      <td>142</td>\n",
       "      <td>19075</td>\n",
       "      <td>19422</td>\n",
       "      <td>14020</td>\n",
       "      <td>8974</td>\n",
       "      <td>12826</td>\n",
       "    </tr>\n",
       "  </tbody>\n",
       "</table>\n",
       "</div>"
      ],
      "text/plain": [
       "             date waterfront   view condition      grade sqft_basement\n",
       "count       21597      19221  21534     21597      21597         21597\n",
       "unique        372          2      5         5         11           304\n",
       "top     6/23/2014         NO   NONE   Average  7 Average           0.0\n",
       "freq          142      19075  19422     14020       8974         12826"
      ]
     },
     "execution_count": 7,
     "metadata": {},
     "output_type": "execute_result"
    }
   ],
   "source": [
    "# describing categorical features\n",
    "house.describe(include=\"O\")"
   ]
  },
  {
   "cell_type": "code",
   "execution_count": 8,
   "metadata": {
    "colab": {
     "base_uri": "https://localhost:8080/",
     "height": 245
    },
    "id": "-awVFXY0SzlO",
    "outputId": "3b736c87-cac0-4fac-cb69-dc881fabec51"
   },
   "outputs": [
    {
     "data": {
      "text/html": [
       "<div>\n",
       "<style scoped>\n",
       "    .dataframe tbody tr th:only-of-type {\n",
       "        vertical-align: middle;\n",
       "    }\n",
       "\n",
       "    .dataframe tbody tr th {\n",
       "        vertical-align: top;\n",
       "    }\n",
       "\n",
       "    .dataframe thead th {\n",
       "        text-align: right;\n",
       "    }\n",
       "</style>\n",
       "<table border=\"1\" class=\"dataframe\">\n",
       "  <thead>\n",
       "    <tr style=\"text-align: right;\">\n",
       "      <th></th>\n",
       "      <th>id</th>\n",
       "      <th>date</th>\n",
       "      <th>price</th>\n",
       "      <th>bedrooms</th>\n",
       "      <th>bathrooms</th>\n",
       "      <th>sqft_living</th>\n",
       "      <th>sqft_lot</th>\n",
       "      <th>floors</th>\n",
       "      <th>waterfront</th>\n",
       "      <th>view</th>\n",
       "      <th>...</th>\n",
       "      <th>grade</th>\n",
       "      <th>sqft_above</th>\n",
       "      <th>sqft_basement</th>\n",
       "      <th>yr_built</th>\n",
       "      <th>yr_renovated</th>\n",
       "      <th>zipcode</th>\n",
       "      <th>lat</th>\n",
       "      <th>long</th>\n",
       "      <th>sqft_living15</th>\n",
       "      <th>sqft_lot15</th>\n",
       "    </tr>\n",
       "  </thead>\n",
       "  <tbody>\n",
       "    <tr>\n",
       "      <th>0</th>\n",
       "      <td>7129300520</td>\n",
       "      <td>10/13/2014</td>\n",
       "      <td>221900.0</td>\n",
       "      <td>3</td>\n",
       "      <td>1.00</td>\n",
       "      <td>1180</td>\n",
       "      <td>5650</td>\n",
       "      <td>1.0</td>\n",
       "      <td>NaN</td>\n",
       "      <td>NONE</td>\n",
       "      <td>...</td>\n",
       "      <td>7 Average</td>\n",
       "      <td>1180</td>\n",
       "      <td>0.0</td>\n",
       "      <td>1955</td>\n",
       "      <td>0.0</td>\n",
       "      <td>98178</td>\n",
       "      <td>47.5112</td>\n",
       "      <td>-122.257</td>\n",
       "      <td>1340</td>\n",
       "      <td>5650</td>\n",
       "    </tr>\n",
       "    <tr>\n",
       "      <th>1</th>\n",
       "      <td>6414100192</td>\n",
       "      <td>12/9/2014</td>\n",
       "      <td>538000.0</td>\n",
       "      <td>3</td>\n",
       "      <td>2.25</td>\n",
       "      <td>2570</td>\n",
       "      <td>7242</td>\n",
       "      <td>2.0</td>\n",
       "      <td>NO</td>\n",
       "      <td>NONE</td>\n",
       "      <td>...</td>\n",
       "      <td>7 Average</td>\n",
       "      <td>2170</td>\n",
       "      <td>400.0</td>\n",
       "      <td>1951</td>\n",
       "      <td>1991.0</td>\n",
       "      <td>98125</td>\n",
       "      <td>47.7210</td>\n",
       "      <td>-122.319</td>\n",
       "      <td>1690</td>\n",
       "      <td>7639</td>\n",
       "    </tr>\n",
       "    <tr>\n",
       "      <th>2</th>\n",
       "      <td>5631500400</td>\n",
       "      <td>2/25/2015</td>\n",
       "      <td>180000.0</td>\n",
       "      <td>2</td>\n",
       "      <td>1.00</td>\n",
       "      <td>770</td>\n",
       "      <td>10000</td>\n",
       "      <td>1.0</td>\n",
       "      <td>NO</td>\n",
       "      <td>NONE</td>\n",
       "      <td>...</td>\n",
       "      <td>6 Low Average</td>\n",
       "      <td>770</td>\n",
       "      <td>0.0</td>\n",
       "      <td>1933</td>\n",
       "      <td>NaN</td>\n",
       "      <td>98028</td>\n",
       "      <td>47.7379</td>\n",
       "      <td>-122.233</td>\n",
       "      <td>2720</td>\n",
       "      <td>8062</td>\n",
       "    </tr>\n",
       "  </tbody>\n",
       "</table>\n",
       "<p>3 rows × 21 columns</p>\n",
       "</div>"
      ],
      "text/plain": [
       "           id        date     price  bedrooms  bathrooms  sqft_living  \\\n",
       "0  7129300520  10/13/2014  221900.0         3       1.00         1180   \n",
       "1  6414100192   12/9/2014  538000.0         3       2.25         2570   \n",
       "2  5631500400   2/25/2015  180000.0         2       1.00          770   \n",
       "\n",
       "   sqft_lot  floors waterfront  view  ...          grade sqft_above  \\\n",
       "0      5650     1.0        NaN  NONE  ...      7 Average       1180   \n",
       "1      7242     2.0         NO  NONE  ...      7 Average       2170   \n",
       "2     10000     1.0         NO  NONE  ...  6 Low Average        770   \n",
       "\n",
       "   sqft_basement yr_built  yr_renovated  zipcode      lat     long  \\\n",
       "0            0.0     1955           0.0    98178  47.5112 -122.257   \n",
       "1          400.0     1951        1991.0    98125  47.7210 -122.319   \n",
       "2            0.0     1933           NaN    98028  47.7379 -122.233   \n",
       "\n",
       "   sqft_living15  sqft_lot15  \n",
       "0           1340        5650  \n",
       "1           1690        7639  \n",
       "2           2720        8062  \n",
       "\n",
       "[3 rows x 21 columns]"
      ]
     },
     "execution_count": 8,
     "metadata": {},
     "output_type": "execute_result"
    }
   ],
   "source": [
    "# creating a copy before cleaning data\n",
    "house1 = house.copy(deep=True)\n",
    "house1.head(3)"
   ]
  },
  {
   "cell_type": "code",
   "execution_count": 9,
   "metadata": {
    "id": "K4Ap-XTUTt7z"
   },
   "outputs": [],
   "source": [
    "# drop id column\n",
    "house1.drop('id', axis=1, inplace=True)"
   ]
  },
  {
   "cell_type": "code",
   "execution_count": 10,
   "metadata": {
    "colab": {
     "base_uri": "https://localhost:8080/"
    },
    "id": "Wh3WqhCTTJAz",
    "outputId": "4dc1cb8c-128c-4716-db60-17a749fa339e"
   },
   "outputs": [
    {
     "name": "stdout",
     "output_type": "stream",
     "text": [
      "Column name: date \n",
      " : ['10/13/2014' '12/9/2014' '2/25/2015' '2/18/2015' '5/12/2014' '6/27/2014'\n",
      " '1/15/2015' '4/15/2015' '3/12/2015' '4/3/2015' '5/27/2014' '5/28/2014'\n",
      " '10/7/2014' '1/24/2015' '7/31/2014' '5/29/2014' '12/5/2014' '4/24/2015'\n",
      " '5/14/2014' '8/26/2014' '7/3/2014' '5/16/2014' '11/20/2014' '11/3/2014'\n",
      " '6/26/2014' '12/1/2014' '6/24/2014' '3/2/2015' '11/10/2014' '12/3/2014'\n",
      " '6/13/2014' '12/30/2014' '2/13/2015' '6/20/2014' '7/15/2014' '8/11/2014'\n",
      " '7/7/2014' '10/28/2014' '7/29/2014' '7/18/2014' '3/25/2015' '7/16/2014'\n",
      " '4/28/2015' '3/11/2015' '9/16/2014' '2/17/2015' '12/31/2014' '2/5/2015'\n",
      " '3/3/2015' '8/19/2014' '4/7/2015' '8/27/2014' '2/23/2015' '12/10/2014'\n",
      " '8/28/2014' '10/21/2014' '12/7/2014' '6/3/2014' '9/9/2014' '10/9/2014'\n",
      " '8/25/2014' '6/12/2014' '9/12/2014' '1/5/2015' '6/10/2014' '7/10/2014'\n",
      " '3/16/2015' '11/5/2014' '4/20/2015' '6/9/2014' '3/23/2015' '12/2/2014'\n",
      " '12/22/2014' '1/28/2015' '6/2/2014' '11/14/2014' '6/18/2014' '5/19/2014'\n",
      " '9/4/2014' '5/22/2014' '2/26/2015' '7/25/2014' '12/23/2014' '9/8/2014'\n",
      " '3/30/2015' '7/11/2014' '6/11/2014' '10/27/2014' '12/12/2014' '9/24/2014'\n",
      " '4/2/2015' '5/23/2014' '7/23/2014' '3/5/2015' '3/4/2015' '11/24/2014'\n",
      " '11/21/2014' '6/23/2014' '1/8/2015' '5/11/2015' '1/2/2015' '11/19/2014'\n",
      " '4/6/2015' '11/4/2014' '7/17/2014' '1/26/2015' '8/13/2014' '8/5/2014'\n",
      " '5/7/2014' '7/8/2014' '5/8/2015' '2/27/2015' '6/25/2014' '8/6/2014'\n",
      " '10/30/2014' '8/20/2014' '4/9/2015' '3/31/2015' '4/1/2015' '7/28/2014'\n",
      " '8/7/2014' '11/13/2014' '10/3/2014' '3/9/2015' '8/12/2014' '12/8/2014'\n",
      " '2/19/2015' '3/24/2015' '6/5/2014' '5/2/2014' '1/16/2015' '9/29/2014'\n",
      " '2/10/2015' '7/9/2014' '5/30/2014' '11/17/2014' '1/7/2015' '4/14/2015'\n",
      " '9/5/2014' '5/5/2014' '4/18/2015' '8/18/2014' '5/15/2014' '11/11/2014'\n",
      " '1/13/2015' '10/14/2014' '11/12/2014' '8/4/2014' '9/19/2014' '11/23/2014'\n",
      " '4/22/2015' '1/14/2015' '2/21/2015' '10/23/2014' '8/22/2014' '9/18/2014'\n",
      " '9/3/2014' '6/4/2014' '4/13/2015' '6/16/2014' '9/2/2014' '3/20/2015'\n",
      " '7/1/2014' '10/1/2014' '1/27/2015' '4/27/2015' '2/12/2015' '3/14/2015'\n",
      " '9/23/2014' '5/13/2014' '4/21/2015' '10/20/2014' '2/11/2015' '8/29/2014'\n",
      " '10/24/2014' '12/16/2014' '8/14/2014' '5/4/2015' '5/1/2015' '10/17/2014'\n",
      " '9/25/2014' '5/5/2015' '5/13/2015' '6/30/2014' '4/10/2015' '2/9/2015'\n",
      " '7/2/2014' '2/24/2015' '10/22/2014' '10/2/2014' '6/19/2014' '2/28/2015'\n",
      " '4/8/2015' '11/22/2014' '7/21/2014' '2/2/2015' '4/16/2015' '7/22/2014'\n",
      " '11/6/2014' '12/29/2014' '9/22/2014' '10/6/2014' '9/17/2014' '1/30/2015'\n",
      " '3/26/2015' '4/23/2015' '12/4/2014' '5/20/2014' '4/29/2015' '3/13/2015'\n",
      " '1/21/2015' '8/1/2014' '4/30/2015' '3/6/2015' '4/17/2015' '9/11/2014'\n",
      " '3/18/2015' '7/30/2014' '12/19/2014' '5/6/2014' '5/12/2015' '8/21/2014'\n",
      " '3/19/2015' '5/2/2015' '2/22/2015' '11/26/2014' '10/15/2014' '1/6/2015'\n",
      " '8/8/2014' '9/1/2014' '6/14/2014' '5/10/2015' '5/21/2014' '5/8/2014'\n",
      " '10/29/2014' '5/7/2015' '9/6/2014' '10/8/2014' '3/10/2015' '12/17/2014'\n",
      " '12/18/2014' '1/23/2015' '12/11/2014' '9/30/2014' '2/4/2015' '2/6/2015'\n",
      " '6/17/2014' '5/6/2015' '6/22/2014' '8/15/2014' '11/18/2014' '8/2/2014'\n",
      " '10/16/2014' '7/12/2014' '9/10/2014' '5/9/2014' '12/15/2014' '11/7/2014'\n",
      " '7/14/2014' '6/15/2014' '9/26/2014' '6/6/2014' '1/22/2015' '3/17/2015'\n",
      " '11/25/2014' '10/10/2014' '12/26/2014' '1/20/2015' '5/14/2015'\n",
      " '1/12/2015' '7/24/2014' '4/25/2015' '2/20/2015' '9/15/2014' '5/17/2014'\n",
      " '4/26/2015' '1/9/2015' '4/19/2015' '5/11/2014' '5/24/2014' '2/14/2015'\n",
      " '5/3/2015' '6/1/2014' '10/31/2014' '3/27/2015' '6/21/2014' '10/18/2014'\n",
      " '12/20/2014' '2/3/2015' '1/29/2015' '7/26/2014' '7/19/2014' '12/21/2014'\n",
      " '6/28/2014' '7/20/2014' '1/19/2015' '12/24/2014' '5/26/2014' '8/16/2014'\n",
      " '9/27/2014' '7/6/2014' '12/14/2014' '10/5/2014' '4/12/2015' '11/15/2014'\n",
      " '11/8/2014' '11/1/2014' '5/25/2014' '8/31/2014' '9/7/2014' '3/29/2015'\n",
      " '10/19/2014' '6/29/2014' '5/4/2014' '4/4/2015' '11/16/2014' '2/16/2015'\n",
      " '5/31/2014' '10/4/2014' '5/18/2014' '11/9/2014' '3/15/2015' '4/5/2015'\n",
      " '5/10/2014' '2/7/2015' '6/8/2014' '12/13/2014' '8/9/2014' '3/21/2015'\n",
      " '10/12/2014' '5/15/2015' '8/17/2014' '7/4/2014' '9/13/2014' '3/7/2015'\n",
      " '4/11/2015' '8/10/2014' '12/6/2014' '5/9/2015' '8/3/2014' '9/28/2014'\n",
      " '5/3/2014' '7/13/2014' '7/5/2014' '10/25/2014' '11/28/2014' '3/28/2015'\n",
      " '3/1/2015' '9/20/2014' '11/2/2014' '1/25/2015' '9/21/2014' '1/10/2015'\n",
      " '8/23/2014' '10/26/2014' '11/29/2014' '6/7/2014' '5/24/2015' '1/31/2015'\n",
      " '12/27/2014' '1/17/2015' '9/14/2014' '3/8/2015' '8/30/2014' '5/27/2015'\n",
      " '3/22/2015' '2/15/2015' '10/11/2014' '2/1/2015' '11/30/2014' '8/24/2014'\n",
      " '7/27/2014']\n",
      "Column name: price \n",
      " : [221900. 538000. 180000. ... 541800. 610685. 402101.]\n",
      "Column name: bedrooms \n",
      " : [ 3  2  4  5  1  6  7  8  9 11 10 33]\n",
      "Column name: bathrooms \n",
      " : [1.   2.25 3.   2.   4.5  1.5  2.5  1.75 2.75 3.25 4.   3.5  0.75 4.75\n",
      " 5.   4.25 3.75 1.25 5.25 6.   0.5  5.5  6.75 5.75 8.   7.5  7.75 6.25\n",
      " 6.5 ]\n",
      "Column name: sqft_living \n",
      " : [1180 2570  770 ... 3087 3118 1425]\n",
      "Column name: sqft_lot \n",
      " : [ 5650  7242 10000 ...  5813  2388  1076]\n",
      "Column name: floors \n",
      " : [1.  2.  1.5 3.  2.5 3.5]\n",
      "Column name: waterfront \n",
      " : [nan 'NO' 'YES']\n",
      "Column name: view \n",
      " : ['NONE' nan 'GOOD' 'EXCELLENT' 'AVERAGE' 'FAIR']\n",
      "Column name: condition \n",
      " : ['Average' 'Very Good' 'Good' 'Poor' 'Fair']\n",
      "Column name: grade \n",
      " : ['7 Average' '6 Low Average' '8 Good' '11 Excellent' '9 Better' '5 Fair'\n",
      " '10 Very Good' '12 Luxury' '4 Low' '3 Poor' '13 Mansion']\n",
      "Column name: sqft_above \n",
      " : [1180 2170  770 1050 1680 3890 1715 1060 1890 1860  860 1430 1370 1810\n",
      " 1980 1600 1200 1250 2330 2270 1070 2450 1710 1750 1400  790 2570 2320\n",
      " 1190 1510 1090 1280  930 2360  890 2620 2600 3595 1570  920 3160  990\n",
      " 2290 2165 1640 1000 2130 2830 2250 2420 3250 1850 1590 1260 2519 1540\n",
      " 1110 1770 2720 2240 3070 2380 2390  880 1040  910 3450 2350 1900 1010\n",
      "  960 2660 1610  765 3520 1290 1960 1160 1210 1270 1440 2190 2920 1460\n",
      " 1170 1240 3140 2030 2310  700 1080 2520 2780 1560 1450 1720 2910 1620\n",
      " 1360 2070 2460 1390 2140 1320 1340 1550  940 1380 3670 2370 1130  980\n",
      " 3540 2500 1760 1030 1780 3400 2680 1670 2590  820 1220 2440 2090 1100\n",
      " 1330 1420 1690 2150 1910 1350 1940  900 1630 2714  850 1870 1950 2760\n",
      " 2020 1120 1480 1230 2280 3760 3530  830 1300 2740 1830  720 2010 3360\n",
      "  800 1730  760 1700 4750 5310  580 2653 2850 2210 2630 3500 1740 1140\n",
      " 2160 2650  970 2040 2180 2220 1660 3370 2690 1930 3150 3030 2050 2490\n",
      " 2560 1275 2580  560 1820 1840 2990 3230 1580 3480 2510 1410 2120 3300\n",
      " 3840 1500 1530 2840  833 2000 6070  950 2200 4040 1920 1490 3470 3130\n",
      " 2610 3260 2260  430 3390  630 4860 3860 2810  870 3180 2770 4030 4410\n",
      " 2400 1520 3040 6050 4740 1970 5403 3350 3580 1790  750 2860 2750 2340\n",
      " 2870 4120 3200 2550 1805 4150 1384 2060 2110 3590 2100 2540 1880 1150\n",
      " 1470 1255 1800 4370 3190 2730 4570 2470  670 2900 4670 4230 2156 1020\n",
      " 2940 2640 2710 3100 3610 4270  840 3090 2300  380 2480 3460 3060 3000\n",
      " 1654 2790 1310 2230 2430 3680 2670 2208  810  740 1422  490 2080 3440\n",
      " 5670 4475  730 3410 3010  600 2960 3570 4300 3990  780 3020 5990  440\n",
      " 4460 4190 2800 2530 1650 3690 2932 3720 4250 3110 2963 4930 2950 5000\n",
      " 2452 2820 1981  640 2495 2403 5320 6720  660 2341 4210 3830 3280 2980\n",
      " 5153 1990 1646  610  710 5450 3504 3210 1782 2930  590 4280  680 3880\n",
      " 3430 3750 4130 5710 3380 3330 4700 3220 3362 3510 3810  620 4490 2410\n",
      " 3050 1008 3488 4070 3420 5770 1605  520 1088 3555 4360 3960 2700 4340\n",
      " 1552 3850 2303 3270 4350 3640 2174 4160 2496 5180 5130 6350 3770 2153\n",
      " 3780 2890 1714 2201 2970  992 3950 3527 2835 3915 1427 4870 3340 3620\n",
      " 4310 3930 4080 5400  570 3310 6110 3320 3490 3859 3710 1798 4600 3560\n",
      " 3940 3600 3800 1105 2305 3290 5050 1556 1553 4000 1657 3001 4220  480\n",
      " 3120 3740  530 3700 5230 5370 3080 4140 4430 3550 1159 1288 2880 4610\n",
      " 1122 3052 1479 7680 3820 1934 5080 2675 2506 5760 2154 4390 3240 1995\n",
      " 1689 2782 2395 4400 6200 3526 4320 2483 4380 4580 4180 2064 3650 1726\n",
      " 2019 4240 1256  500 1355 1747 1678 1833 1414 4115 3597 3170 1976 5830\n",
      " 2601 3920 2641 5070 2518 3910 3660 3695 4020 2803 2074 2038 4060 4890\n",
      " 2329 1264 1095  690 4090 1392 2844  902 4560 2811 4720 2168 5610 2683\n",
      " 4900 2095 4290 4050 4260 4440 6220 1175  998 2356 4500 3900 3831 1315\n",
      " 4470 2286 2927 4760 8570 5140 1679 1811 2849 1676 1757 3730 2441 2163\n",
      " 5250 2795 2415 3970 4200 1068 5240 1509 1954 4820 1651 4100 1752 3630\n",
      " 2885 3154 1129 2632 1996 4010  550  410 6430 3790 2031 1652 2434 3316\n",
      " 1899 2331 2497 2216 4170 1341 1961 5584 8860 2507 5220 4850 5844 5530\n",
      " 2145  650 1982 4910 3605 1778 1463 2783 1946 1358 3870 1864 1845 6290\n",
      " 3980 2382 2979 3674 2726 5440 1295 2115 6085 3265 3136 6640 4620 3361\n",
      " 2245 2242 1078 2577 1329  420 4330 1975 7420 1788 2299 1092 4225 1087\n",
      " 1904  470 2966 2192 2253 5550 4133 4285 1216  540 9410 2075 5330 2166\n",
      " 1628 1808 1352 2557 6380 7880 2734 1363 1769 2093 1677 2588 5190 2298\n",
      " 1491 2961 5020 5980 4540 6120 2233 4480 4110 4770 2473  995 5160 1494\n",
      " 2007 1048 3002 4780 2155 2014 4980 2665 4830 4790 5010  370 2105 3006\n",
      " 3004 2689 4660 1746 2678 2755 2414  901 4630 2068 2807 2643 2181 4510\n",
      " 4420 1604 1435 3045 2717 2905 4940 5110 2533 6660 3485 2659 5090 2375\n",
      " 1964  866 1595  944 5480  809 5040 1764 1656 1802  460 2692 1544 2044\n",
      " 1212 4083 8020 3905 1502 4590 2092 6090 1615 7320 1396 1484 1765 5490\n",
      " 1453 1643 5300 1381 4065 1313 5430 1397 2793 2475 1936 3028  798 2575\n",
      " 3276 1584 2393 2029 3222 1072 1785 1984  962 2423 2052 2538 2437 2789\n",
      " 2906 4800 7850 2196 1847 2658 2655 3855 1728  963 2223 1611 2015 2448\n",
      " 1489 1116 3745 1002 3202 1347 1481 2311 2544 2584 2217 3569 3181 1921\n",
      " 2612 2671 2598 3284 3266 1076 2594 2718 1794 2481 3845 1413 1876 3148\n",
      " 2413 1767 5060  806 2547 1834 2024 1165 2134 1741 2798 1852 4810 2099\n",
      " 3216 1094 2891 2432 2283 2701 1658  893 2009 1444 2744 3078 3065 1578\n",
      " 2815 4960 1571 6530 4640 1536 3172 6370 3223 1608 2229 3135 1408 1763\n",
      " 4840 1232 2502 2424 1296 1914  988 3828 3056 2267 1131 2796 1812 1084\n",
      " 2025 1564 1239 2568 1528 2628 2185 2478 2669 1912 2828 2425 1446 3206\n",
      " 2406 1419 2056 1144 2456 4950 3192  828 2529 2732 1987 3906 4073 2578\n",
      " 2738 3691 1061 2846 2542 1889 3336 3236 1451 1983 2313 1824 1322 1766\n",
      " 2301 3274 1108 2864 2716 1572 3281 2656 2398 1867 1613 2587 2623  390\n",
      "  894 1606 2244 2026 2238 2517 2708 2555 1405 4450 1248 6420 2531 1333\n",
      " 2198 3087 3118 1425]\n",
      "Column name: sqft_basement \n",
      " : ['0.0' '400.0' '910.0' '1530.0' '?' '730.0' '1700.0' '300.0' '970.0'\n",
      " '760.0' '720.0' '700.0' '820.0' '780.0' '790.0' '330.0' '1620.0' '360.0'\n",
      " '588.0' '1510.0' '410.0' '990.0' '600.0' '560.0' '550.0' '1000.0'\n",
      " '1600.0' '500.0' '1040.0' '880.0' '1010.0' '240.0' '265.0' '290.0'\n",
      " '800.0' '540.0' '710.0' '840.0' '380.0' '770.0' '480.0' '570.0' '1490.0'\n",
      " '620.0' '1250.0' '1270.0' '120.0' '650.0' '180.0' '1130.0' '450.0'\n",
      " '1640.0' '1460.0' '1020.0' '1030.0' '750.0' '640.0' '1070.0' '490.0'\n",
      " '1310.0' '630.0' '2000.0' '390.0' '430.0' '850.0' '210.0' '1430.0'\n",
      " '1950.0' '440.0' '220.0' '1160.0' '860.0' '580.0' '2060.0' '1820.0'\n",
      " '1180.0' '200.0' '1150.0' '1200.0' '680.0' '530.0' '1450.0' '1170.0'\n",
      " '1080.0' '960.0' '280.0' '870.0' '1100.0' '460.0' '1400.0' '660.0'\n",
      " '1220.0' '900.0' '420.0' '1580.0' '1380.0' '475.0' '690.0' '270.0'\n",
      " '350.0' '935.0' '1370.0' '980.0' '1470.0' '160.0' '950.0' '50.0' '740.0'\n",
      " '1780.0' '1900.0' '340.0' '470.0' '370.0' '140.0' '1760.0' '130.0'\n",
      " '520.0' '890.0' '1110.0' '150.0' '1720.0' '810.0' '190.0' '1290.0'\n",
      " '670.0' '1800.0' '1120.0' '1810.0' '60.0' '1050.0' '940.0' '310.0'\n",
      " '930.0' '1390.0' '610.0' '1830.0' '1300.0' '510.0' '1330.0' '1590.0'\n",
      " '920.0' '1320.0' '1420.0' '1240.0' '1960.0' '1560.0' '2020.0' '1190.0'\n",
      " '2110.0' '1280.0' '250.0' '2390.0' '1230.0' '170.0' '830.0' '1260.0'\n",
      " '1410.0' '1340.0' '590.0' '1500.0' '1140.0' '260.0' '100.0' '320.0'\n",
      " '1480.0' '1060.0' '1284.0' '1670.0' '1350.0' '2570.0' '1090.0' '110.0'\n",
      " '2500.0' '90.0' '1940.0' '1550.0' '2350.0' '2490.0' '1481.0' '1360.0'\n",
      " '1135.0' '1520.0' '1850.0' '1660.0' '2130.0' '2600.0' '1690.0' '243.0'\n",
      " '1210.0' '1024.0' '1798.0' '1610.0' '1440.0' '1570.0' '1650.0' '704.0'\n",
      " '1910.0' '1630.0' '2360.0' '1852.0' '2090.0' '2400.0' '1790.0' '2150.0'\n",
      " '230.0' '70.0' '1680.0' '2100.0' '3000.0' '1870.0' '1710.0' '2030.0'\n",
      " '875.0' '1540.0' '2850.0' '2170.0' '506.0' '906.0' '145.0' '2040.0'\n",
      " '784.0' '1750.0' '374.0' '518.0' '2720.0' '2730.0' '1840.0' '3480.0'\n",
      " '2160.0' '1920.0' '2330.0' '1860.0' '2050.0' '4820.0' '1913.0' '80.0'\n",
      " '2010.0' '3260.0' '2200.0' '415.0' '1730.0' '652.0' '2196.0' '1930.0'\n",
      " '515.0' '40.0' '2080.0' '2580.0' '1548.0' '1740.0' '235.0' '861.0'\n",
      " '1890.0' '2220.0' '792.0' '2070.0' '4130.0' '2250.0' '2240.0' '1990.0'\n",
      " '768.0' '2550.0' '435.0' '1008.0' '2300.0' '2610.0' '666.0' '3500.0'\n",
      " '172.0' '1816.0' '2190.0' '1245.0' '1525.0' '1880.0' '862.0' '946.0'\n",
      " '1281.0' '414.0' '2180.0' '276.0' '1248.0' '602.0' '516.0' '176.0'\n",
      " '225.0' '1275.0' '266.0' '283.0' '65.0' '2310.0' '10.0' '1770.0' '2120.0'\n",
      " '295.0' '207.0' '915.0' '556.0' '417.0' '143.0' '508.0' '2810.0' '20.0'\n",
      " '274.0' '248.0']\n",
      "Column name: yr_built \n",
      " : [1955 1951 1933 1965 1987 2001 1995 1963 1960 2003 1942 1927 1977 1900\n",
      " 1979 1994 1916 1921 1969 1947 1968 1985 1941 1915 1909 1948 2005 1929\n",
      " 1981 1930 1904 1996 2000 1984 2014 1922 1959 1966 1953 1950 2008 1991\n",
      " 1954 1973 1925 1989 1972 1986 1956 2002 1992 1964 1952 1961 2006 1988\n",
      " 1962 1939 1946 1967 1975 1980 1910 1983 1978 1905 1971 2010 1945 1924\n",
      " 1990 1914 1926 2004 1923 2007 1976 1949 1999 1901 1993 1920 1997 1943\n",
      " 1957 1940 1918 1928 1974 1911 1936 1937 1982 1908 1931 1998 1913 2013\n",
      " 1907 1958 2012 1912 2011 1917 1932 1944 1902 2009 1903 1970 2015 1934\n",
      " 1938 1919 1906 1935]\n",
      "Column name: yr_renovated \n",
      " : [   0. 1991.   nan 2002. 2010. 1992. 2013. 1994. 1978. 2005. 2003. 1984.\n",
      " 1954. 2014. 2011. 1983. 1945. 1990. 1988. 1977. 1981. 1995. 2000. 1999.\n",
      " 1998. 1970. 1989. 2004. 1986. 2007. 1987. 2006. 1985. 2001. 1980. 1971.\n",
      " 1979. 1997. 1950. 1969. 1948. 2009. 2015. 1974. 2008. 1968. 2012. 1963.\n",
      " 1951. 1962. 1953. 1993. 1996. 1955. 1982. 1956. 1940. 1976. 1946. 1975.\n",
      " 1964. 1973. 1957. 1959. 1960. 1967. 1965. 1934. 1972. 1944. 1958.]\n",
      "Column name: zipcode \n",
      " : [98178 98125 98028 98136 98074 98053 98003 98198 98146 98038 98007 98115\n",
      " 98107 98126 98019 98103 98002 98133 98040 98092 98030 98119 98112 98052\n",
      " 98027 98117 98058 98001 98056 98166 98023 98070 98148 98105 98042 98008\n",
      " 98059 98122 98144 98004 98005 98034 98075 98116 98010 98118 98199 98032\n",
      " 98045 98102 98077 98108 98168 98177 98065 98029 98006 98109 98022 98033\n",
      " 98155 98024 98011 98031 98106 98072 98188 98014 98055 98039]\n",
      "Column name: lat \n",
      " : [47.5112 47.721  47.7379 ... 47.3906 47.3339 47.6502]\n",
      "Column name: long \n",
      " : [-122.257 -122.319 -122.233 -122.393 -122.045 -122.005 -122.327 -122.315\n",
      " -122.337 -122.031 -122.145 -122.292 -122.229 -122.394 -122.375 -121.962\n",
      " -122.343 -122.21  -122.306 -122.341 -122.169 -122.166 -122.172 -122.218\n",
      " -122.36  -122.314 -122.304 -122.11  -122.07  -122.357 -122.368 -122.157\n",
      " -122.31  -122.132 -122.362 -122.282 -122.18  -122.027 -122.347 -122.016\n",
      " -122.364 -122.175 -121.977 -122.371 -122.151 -122.301 -122.451 -122.322\n",
      " -122.189 -122.384 -122.369 -122.281 -122.29  -122.114 -122.122 -122.116\n",
      " -122.149 -122.339 -122.335 -122.344 -122.32  -122.297 -122.192 -122.215\n",
      " -122.16  -122.179 -122.287 -122.036 -122.073 -121.987 -122.125 -122.34\n",
      " -122.025 -122.008 -122.291 -122.365 -122.199 -122.194 -122.387 -122.372\n",
      " -122.391 -122.351 -122.386 -122.249 -122.277 -122.378 -121.958 -121.714\n",
      " -122.08  -122.196 -122.184 -122.133 -122.38  -122.082 -122.109 -122.053\n",
      " -122.349 -122.295 -122.253 -122.248 -122.303 -122.294 -122.226 -122.266\n",
      " -122.098 -122.212 -122.244 -122.39  -122.352 -121.85  -122.152 -122.054\n",
      " -122.072 -121.998 -122.296 -122.299 -122.381 -122.358 -122.128 -122.171\n",
      " -122.174 -122.026 -122.353 -121.943 -122.286 -122.336 -122.359 -122.162\n",
      " -122.3   -122.176 -121.996 -122.118 -122.193 -122.023 -122.224 -122.168\n",
      " -122.231 -122.331 -122.374 -122.182 -122.308 -122.307 -121.999 -122.376\n",
      " -122.2   -122.039 -122.102 -122.188 -122.379 -122.043 -122.153 -122.191\n",
      " -122.219 -122.312 -121.911 -121.994 -122.165 -122.37  -122.158 -122.047\n",
      " -122.284 -122.017 -122.275 -122.268 -122.367 -122.217 -122.373 -122.013\n",
      " -122.214 -122.034 -122.164 -121.899 -122.183 -121.95  -122.324 -122.216\n",
      " -122.395 -122.213 -122.345 -122.278 -122.111 -121.711 -122.27  -122.178\n",
      " -122.147 -121.772 -122.302 -122.438 -122.223 -122.042 -122.323 -122.255\n",
      " -122.4   -122.261 -122.071 -122.206 -122.272 -122.23  -122.144 -122.143\n",
      " -122.181 -122.154 -122.311 -122.274 -122.077 -122.    -122.298 -122.058\n",
      " -121.837 -122.333 -122.057 -122.252 -122.093 -122.012 -122.052 -122.354\n",
      " -122.22  -122.49  -121.875 -122.24  -122.078 -122.173 -121.854 -122.222\n",
      " -122.28  -122.137 -122.159 -121.974 -122.141 -122.029 -121.709 -122.19\n",
      " -121.97  -122.329 -122.195 -122.06  -121.959 -122.095 -122.148 -122.146\n",
      " -122.35  -121.901 -122.241 -122.129 -122.289 -122.305 -122.022 -122.385\n",
      " -121.779 -122.032 -122.402 -122.482 -122.227 -121.982 -122.161 -122.046\n",
      " -122.156 -122.127 -122.33  -122.197 -122.041 -122.103 -122.318 -122.382\n",
      " -122.271 -121.955 -122.211 -122.262 -122.258 -122.121 -122.221 -122.234\n",
      " -122.089 -122.123 -122.167 -121.909 -122.107 -122.064 -122.066 -122.062\n",
      " -122.264 -122.186 -122.087 -121.88  -121.864 -122.205 -122.363 -122.139\n",
      " -122.018 -122.225 -122.285 -122.084 -122.177 -122.056 -122.316 -122.021\n",
      " -122.348 -122.009 -122.131 -122.411 -122.198 -122.256 -122.117 -122.097\n",
      " -122.075 -121.845 -122.083 -122.259 -121.87  -122.015 -122.007 -121.86\n",
      " -122.409 -121.755 -121.972 -122.251 -122.317 -121.776 -122.115 -122.283\n",
      " -122.242 -122.001 -122.024 -122.309 -122.113 -121.771 -122.239 -122.273\n",
      " -122.396 -122.094 -122.267 -122.326 -122.13  -122.269 -121.853 -122.05\n",
      " -122.346 -122.076 -121.826 -122.124 -121.758 -122.202 -121.785 -121.872\n",
      " -122.006 -122.004 -122.321 -121.882 -122.101 -122.03  -122.185 -122.1\n",
      " -121.759 -121.965 -122.201 -122.366 -122.313 -122.405 -122.02  -122.279\n",
      " -122.355 -121.934 -122.15  -122.356 -121.993 -122.044 -122.134 -121.867\n",
      " -122.01  -121.991 -122.011 -121.983 -122.228 -122.033 -122.276 -122.119\n",
      " -121.937 -122.361 -122.325 -122.203 -122.136 -122.237 -122.209 -122.049\n",
      " -122.288 -122.106 -122.037 -122.207 -122.263 -121.915 -122.204 -122.09\n",
      " -122.069 -121.852 -121.787 -121.976 -122.377 -122.059 -122.383 -121.989\n",
      " -122.019 -122.208 -121.878 -122.328 -122.25  -122.338 -122.388 -122.265\n",
      " -122.332 -122.399 -122.397 -122.014 -121.956 -122.092 -122.028 -122.293\n",
      " -122.12  -122.035 -122.14  -122.04  -122.112 -122.17  -122.238 -122.512\n",
      " -121.997 -121.89  -122.463 -121.908 -122.086 -122.389 -121.913 -122.163\n",
      " -121.918 -122.108 -122.502 -122.392 -122.236 -121.859 -121.981 -122.342\n",
      " -121.96  -121.978 -122.47  -121.91  -121.966 -122.065 -122.246 -122.41\n",
      " -121.879 -122.079 -122.099 -122.187 -121.98  -122.002 -122.138 -121.898\n",
      " -122.235 -122.126 -121.782 -121.995 -122.401 -121.858 -121.888 -121.752\n",
      " -122.063 -122.26  -121.78  -121.708 -121.721 -122.403 -121.945 -122.243\n",
      " -122.45  -121.927 -122.085 -122.088 -121.973 -122.055 -122.398 -121.984\n",
      " -121.912 -121.903 -121.946 -122.232 -122.412 -122.104 -122.048 -122.479\n",
      " -122.155 -121.833 -121.778 -122.003 -121.99  -121.926 -122.051 -121.986\n",
      " -122.245 -121.861 -122.431 -121.964 -122.142 -122.074 -122.247 -122.497\n",
      " -121.769 -121.827 -121.979 -121.871 -122.091 -121.754 -121.746 -121.92\n",
      " -121.992 -122.406 -121.359 -121.789 -121.707 -122.068 -122.404 -122.334\n",
      " -121.799 -121.774 -121.985 -121.865 -121.724 -122.415 -121.756 -121.809\n",
      " -122.135 -121.691 -122.038 -121.877 -121.94  -121.968 -121.988 -121.315\n",
      " -121.902 -122.514 -122.414 -121.883 -121.866 -121.744 -122.096 -122.061\n",
      " -121.881 -121.745 -122.461 -122.067 -121.868 -121.646 -121.93  -122.105\n",
      " -121.763 -121.718 -121.967 -121.777 -121.957 -121.823 -121.887 -122.408\n",
      " -122.462 -122.43  -122.456 -121.897 -121.932 -121.969 -121.916 -122.081\n",
      " -121.975 -121.735 -121.801 -121.761 -121.723 -121.924 -122.475 -121.935\n",
      " -122.407 -122.448 -122.453 -121.894 -121.936 -121.764 -122.416 -121.905\n",
      " -122.464 -121.768 -122.484 -121.738 -121.9   -121.82  -122.455 -121.889\n",
      " -122.496 -121.829 -122.505 -121.951 -121.847 -122.509 -121.961 -121.417\n",
      " -121.904 -122.503 -121.949 -121.874 -122.432 -121.971 -121.77  -122.473\n",
      " -121.896 -121.952 -122.254 -121.743 -121.933 -121.892 -121.473 -121.857\n",
      " -122.465 -121.838 -121.954 -122.422 -121.931 -121.963 -122.441 -121.925\n",
      " -121.352 -122.511 -122.413 -121.876 -121.748 -121.818 -121.8   -121.929\n",
      " -121.698 -121.886 -121.802 -121.81  -121.762 -121.781 -121.775 -122.44\n",
      " -121.773 -121.819 -121.726 -122.459 -122.446 -121.855 -121.736 -122.499\n",
      " -122.46  -121.786 -122.421 -121.947 -122.439 -121.834 -121.804 -122.443\n",
      " -121.716 -121.848 -122.458 -122.515 -121.922 -121.953 -121.783 -122.472\n",
      " -121.944 -121.869 -122.452 -121.831 -121.737 -121.739 -121.863 -121.73\n",
      " -121.856 -121.747 -121.893 -121.733 -121.846 -121.821 -121.319 -121.765\n",
      " -121.75  -122.506 -121.948 -121.921 -121.828 -122.507 -122.457 -121.749\n",
      " -121.914 -122.469 -121.792 -121.907 -121.841 -121.757 -121.788 -121.731\n",
      " -122.449 -121.316 -121.321 -122.504 -121.884 -121.803 -121.842 -121.719\n",
      " -121.766 -122.433 -122.519 -121.851 -121.402 -122.454 -122.467 -121.325\n",
      " -121.815 -121.676 -121.941 -122.445 -121.76  -121.885 -121.742 -121.822\n",
      " -121.895 -121.784 -121.701 -121.713 -121.727 -121.849 -121.835 -122.435\n",
      " -122.474 -122.444 -121.939 -121.48  -121.364 -121.767 -122.42  -121.84\n",
      " -121.906 -122.425 -122.447 -121.797 -121.917 -121.891 -121.942 -121.862\n",
      " -121.725 -121.873 -121.405 -122.486 -121.795 -121.734 -121.403]\n",
      "Column name: sqft_living15 \n",
      " : [1340 1690 2720 1360 1800 4760 2238 1650 1780 2390 2210 1330 1370 2140\n",
      " 1890 1610 1060 1280 1400 4110 2240 1220 2200 1030 1760 1860 1520 2630\n",
      " 2580 1390 1460 1570 2020 1590 2160 1730 1290 2620 2470 2410 3625 1580\n",
      " 3050 1228 2680  970 1190 1990 1410 1480 2730 1950 2250 2690 2960 2270\n",
      " 2570 2500 1440 2750 2221 1010 3390 3530 1640 1510 2420 1940 3240 1680\n",
      "  890 1130 3350 2350 1870 1720 1850 1900 1980 2520 1350 1750 1160 2550\n",
      " 2370 1240 1270 2990 1380 1540 2090 2640 1830 1620 1880 2340 1710 2700\n",
      " 3060 2660 1700 1970 1420 2060 2480 1550 1170 2820 1560 2230 2840 1450\n",
      " 1500 3160 1200 3400 2110 2920 1770 1070 1930 3740 2260 1670 2290 1050\n",
      " 2540 2190 2030 1230 2330 1300 1430 2770 1250 1630 2590 2130 1100 3836\n",
      " 1320 2120 3070 1910 2080 1960 2280 1150 3430 2070 2600  830 1260 3120\n",
      " 2010 1660 1600 2380 3890 4180 2653 2670 3920 2300 2310 2320 3150 1740\n",
      " 2400 4550 2510 2440 2880 3860 2150 1310 1820 3080  880 2560 3470 1020\n",
      " 2040 2610 1810 2860 3480 3130 3360 4050 2450 1790 3180 3600 2000 2430\n",
      " 2850 4680 2360 3930 1490 2460 2077 1920 3630 3220 2100 3230 4300 3850\n",
      " 2424 2530 3030 2830 2900 2950 1470  940 2740 4210 3340 3980 2180 3715\n",
      " 2050 1080 2095 1000 3330 2170 1408 1530 2760 3110  950 3000 1307 2220\n",
      " 4190 3440 3250 1110 2870 1210 2910 1120 4230 1708 3090 3270 2970 1180\n",
      " 3100 4100 2930 3510 2688 1840 2490 4090 2810 3260 3680 3420 1654 1365\n",
      "  980 1677 1140 3640 3460 3140 1502 3720 2790 2940  990 2890  860 4750\n",
      " 1525 3950 5790  760 2234  960 3210 2780 2800 2305 2665 3620 2710 4320\n",
      " 2650 3370 1509 1277 1981 2434 4640 2242 3040 3970 3200 4600  840 3290\n",
      " 2214 1162 3010 5600 3820 3540 1975 4800  740 3990 3170 1576 1768 3310\n",
      " 2980 1429 3900 3380  820 1090 4060 3910 3190 3450 3730  620 3020 3760\n",
      " 3320 1132 3300 3770 3960  870 3560 4620 3520 1572 3490 1088 3159 4470\n",
      " 3570 4890 3690 3280 2083 3780  920 1941 1566  850 2496 1040 3410 4240\n",
      " 4670 4350 1714 5380 4330 3830 5000 2144 1494 1357  930 3580 4250 4080\n",
      " 3660 1458 3736 1894 2037 1295 4170 3750 3550 4630 1439 3500 2091  900\n",
      " 3880 3710 1616  720  800 2315 1564 2767 3721 4650 4020  780 1728 2027\n",
      " 1264 1404 1459 2028 3639 1943 3425 2641 2114 1309 2412 2517 1802 2011\n",
      " 1466 1414 3193 1845 1156 3670 1696 5340 4440 1745 1884 4690 4920 2406\n",
      " 4160 3810 4480 2848 1746 2634 2049 5330 1536 2273 3056 4010 4700  910\n",
      " 2125 1665 2683 3790  700 1855  750 1078 4150 4340 2344 1098 1175 1188\n",
      " 3700 3840 4042 2518 3800 2488 3590 2052  810 1528 5030 5070 2967 4280\n",
      " 2724 3610 3940 4940 4770 1811 4830 2876 1805 1216 5170 1304 2474 4590\n",
      " 4130 1492 1364 2168 4140 3543 1303 2005 3650 2583 4310 2451 1448 2955\n",
      " 2142  790 1638 2554 2441 2216 4220 1961 4540  770 4200 3413 1664 2136\n",
      " 3568 4510 1484 1358 2106 1834 2014 4390 4570 2175 6110 4260  710 2112\n",
      " 1934 1518 1302 2622 2619 2382 4290 4560 4000 1336 3112 4070 1468 1571\n",
      " 2605 1138 5110 4850 2165 4410 1678 5610 1984 4660 3870 4370  460 4610\n",
      " 1914 3515 2246 1786 2109 2326 4740 2728 4400 4950 1767 2054 5500 2555\n",
      " 3674 2765 1862 1352 4030  399 2415 2901 1815 2236 2253 2004 1356 2403\n",
      " 1137 1256 4930 4040 2376 4520 4490 2189 2566 2396 1282 2155 1056 2389\n",
      " 2256 3618 1326 1168 4913  806 1369 2405 2875 1425 5220 1442 2333 3335\n",
      " 1321 3045 1546 4730 2697 2822 2076 1757 4780  952 4270 2075 2667 1092\n",
      " 1217 1716 1792 2961 1125 1463 1886  670 4460 2336 3557 5200 2258 1377\n",
      " 2019 2092 4900 2615 1639 1765 1554 1381 4120 5080 1445 2793 2475  998\n",
      " 2384 2575 1398 1584 2439 2197 2029 4362 1443 4420 1691 2495 2437 2547\n",
      " 6210 2009 1847 1346 2578 2879 2255 2815 1608  690 2425 1481 2458 2358\n",
      " 2056 1921 2419 2996 2502 1798 3087 1076 2981 2363 3191 1763 1876 1949\n",
      " 2598 1979 1415 2002 2574 2166 3726 2099 2154 1522 1544 2912 2648 1658\n",
      " 2755 2798 1405 2704 2738 3008 2586 2873 1232 2597 2516 1537 1128 2849\n",
      " 1399 1131 1569 2381 1084 2304 4530 2297 2279 2303 2669 4225 2513 2725\n",
      " 1955 2527 4443 2478 1919 1813 2533  828 2015 3078 4495 2673 2316 2647\n",
      " 3402 3494 2156 3236 2612 2323 2409 2354 1285 2616 1427 1516 2456 2844\n",
      " 1495 2594 2604 1268 2198 3038 2927]\n",
      "Column name: sqft_lot15 \n",
      " : [5650 7639 8062 ... 5731 1509 2007]\n"
     ]
    }
   ],
   "source": [
    "# checking unique variable\n",
    "for h in house1:\n",
    "  colval = house1[h].unique()\n",
    "  print(f\"Column name: {h} \\n : {colval}\")"
   ]
  },
  {
   "cell_type": "code",
   "execution_count": 11,
   "metadata": {
    "colab": {
     "base_uri": "https://localhost:8080/"
    },
    "id": "Iitq4Sp-T1Nh",
    "outputId": "233848cd-d69c-4f9a-c448-700be02eaab0"
   },
   "outputs": [
    {
     "data": {
      "text/plain": [
       "Index(['date', 'price', 'bedrooms', 'bathrooms', 'sqft_living', 'sqft_lot',\n",
       "       'floors', 'waterfront', 'view', 'condition', 'grade', 'sqft_above',\n",
       "       'sqft_basement', 'yr_built', 'yr_renovated', 'zipcode', 'lat', 'long',\n",
       "       'sqft_living15', 'sqft_lot15'],\n",
       "      dtype='object')"
      ]
     },
     "execution_count": 11,
     "metadata": {},
     "output_type": "execute_result"
    }
   ],
   "source": [
    "# checking columns\n",
    "house1.columns"
   ]
  },
  {
   "cell_type": "code",
   "execution_count": 12,
   "metadata": {
    "id": "JUZZ8rdiosT-"
   },
   "outputs": [],
   "source": [
    "# replacing ? with NaN in sqft_basement\n",
    "house1['sqft_basement'] = house1['sqft_basement'].replace(\"?\", np.nan)"
   ]
  },
  {
   "cell_type": "code",
   "execution_count": 13,
   "metadata": {
    "id": "bTq3Jra_r4FD"
   },
   "outputs": [],
   "source": [
    "# converting sqft_basement into numeric\n",
    "house1['sqft_basement'] = pd.to_numeric(house1['sqft_basement'])"
   ]
  },
  {
   "cell_type": "code",
   "execution_count": 14,
   "metadata": {
    "colab": {
     "base_uri": "https://localhost:8080/",
     "height": 742
    },
    "id": "mFqvXAsdVN61",
    "outputId": "6b8a6b59-193c-4719-b406-ac3ebbe21b8c"
   },
   "outputs": [
    {
     "data": {
      "text/plain": [
       "date                0\n",
       "price               0\n",
       "bedrooms            0\n",
       "bathrooms           0\n",
       "sqft_living         0\n",
       "sqft_lot            0\n",
       "floors              0\n",
       "waterfront       2376\n",
       "view               63\n",
       "condition           0\n",
       "grade               0\n",
       "sqft_above          0\n",
       "sqft_basement     454\n",
       "yr_built            0\n",
       "yr_renovated     3842\n",
       "zipcode             0\n",
       "lat                 0\n",
       "long                0\n",
       "sqft_living15       0\n",
       "sqft_lot15          0\n",
       "dtype: int64"
      ]
     },
     "execution_count": 14,
     "metadata": {},
     "output_type": "execute_result"
    }
   ],
   "source": [
    "# checking missing values\n",
    "house1.isnull().sum()"
   ]
  },
  {
   "cell_type": "code",
   "execution_count": 15,
   "metadata": {
    "id": "PqbxNndVV6yk"
   },
   "outputs": [],
   "source": [
    "# filling in missing values\n",
    "house1.fillna({'view': house1['view'].mode()[0]},inplace=True)\n",
    "house1.fillna({'waterfront' : house1['waterfront'].mode()[0]}, inplace=True)\n",
    "house1.fillna({'yr_renovated' : 0}, inplace=True)\n",
    "house1.fillna({'sqft_basement' : house1['sqft_basement'].median()}, inplace=True)"
   ]
  },
  {
   "cell_type": "code",
   "execution_count": 16,
   "metadata": {
    "colab": {
     "base_uri": "https://localhost:8080/",
     "height": 742
    },
    "id": "Z1JXi56IYgCR",
    "outputId": "fec4a9af-10f9-4e9f-e4d0-7bb10f06fa96"
   },
   "outputs": [
    {
     "data": {
      "text/plain": [
       "date             0\n",
       "price            0\n",
       "bedrooms         0\n",
       "bathrooms        0\n",
       "sqft_living      0\n",
       "sqft_lot         0\n",
       "floors           0\n",
       "waterfront       0\n",
       "view             0\n",
       "condition        0\n",
       "grade            0\n",
       "sqft_above       0\n",
       "sqft_basement    0\n",
       "yr_built         0\n",
       "yr_renovated     0\n",
       "zipcode          0\n",
       "lat              0\n",
       "long             0\n",
       "sqft_living15    0\n",
       "sqft_lot15       0\n",
       "dtype: int64"
      ]
     },
     "execution_count": 16,
     "metadata": {},
     "output_type": "execute_result"
    }
   ],
   "source": [
    "# check missing values again\n",
    "house1.isnull().sum()"
   ]
  },
  {
   "cell_type": "code",
   "execution_count": 17,
   "metadata": {
    "colab": {
     "base_uri": "https://localhost:8080/"
    },
    "id": "2hL40W9pdfZd",
    "outputId": "af1dee95-1c66-4ce2-d3bd-579351977f53"
   },
   "outputs": [
    {
     "name": "stdout",
     "output_type": "stream",
     "text": [
      "<class 'pandas.core.frame.DataFrame'>\n",
      "RangeIndex: 21597 entries, 0 to 21596\n",
      "Data columns (total 20 columns):\n",
      " #   Column         Non-Null Count  Dtype  \n",
      "---  ------         --------------  -----  \n",
      " 0   date           21597 non-null  object \n",
      " 1   price          21597 non-null  float64\n",
      " 2   bedrooms       21597 non-null  int64  \n",
      " 3   bathrooms      21597 non-null  float64\n",
      " 4   sqft_living    21597 non-null  int64  \n",
      " 5   sqft_lot       21597 non-null  int64  \n",
      " 6   floors         21597 non-null  float64\n",
      " 7   waterfront     21597 non-null  object \n",
      " 8   view           21597 non-null  object \n",
      " 9   condition      21597 non-null  object \n",
      " 10  grade          21597 non-null  object \n",
      " 11  sqft_above     21597 non-null  int64  \n",
      " 12  sqft_basement  21597 non-null  float64\n",
      " 13  yr_built       21597 non-null  int64  \n",
      " 14  yr_renovated   21597 non-null  float64\n",
      " 15  zipcode        21597 non-null  int64  \n",
      " 16  lat            21597 non-null  float64\n",
      " 17  long           21597 non-null  float64\n",
      " 18  sqft_living15  21597 non-null  int64  \n",
      " 19  sqft_lot15     21597 non-null  int64  \n",
      "dtypes: float64(7), int64(8), object(5)\n",
      "memory usage: 3.3+ MB\n"
     ]
    }
   ],
   "source": [
    "# changing column info again\n",
    "house1.info()"
   ]
  },
  {
   "cell_type": "code",
   "execution_count": 18,
   "metadata": {
    "colab": {
     "base_uri": "https://localhost:8080/",
     "height": 0
    },
    "id": "MfQkOSaZlQxK",
    "outputId": "4c60614b-c84c-4d1e-89c4-1794caa6ea39"
   },
   "outputs": [
    {
     "name": "stdout",
     "output_type": "stream",
     "text": [
      "<class 'pandas.core.frame.DataFrame'>\n",
      "RangeIndex: 21597 entries, 0 to 21596\n",
      "Data columns (total 20 columns):\n",
      " #   Column         Non-Null Count  Dtype  \n",
      "---  ------         --------------  -----  \n",
      " 0   date           21597 non-null  object \n",
      " 1   price          21597 non-null  int64  \n",
      " 2   bedrooms       21597 non-null  int64  \n",
      " 3   bathrooms      21597 non-null  int64  \n",
      " 4   sqft_living    21597 non-null  int64  \n",
      " 5   sqft_lot       21597 non-null  int64  \n",
      " 6   floors         21597 non-null  int64  \n",
      " 7   waterfront     21597 non-null  object \n",
      " 8   view           21597 non-null  object \n",
      " 9   condition      21597 non-null  object \n",
      " 10  grade          21597 non-null  object \n",
      " 11  sqft_above     21597 non-null  int64  \n",
      " 12  sqft_basement  21597 non-null  int64  \n",
      " 13  yr_built       21597 non-null  int64  \n",
      " 14  yr_renovated   21597 non-null  int64  \n",
      " 15  zipcode        21597 non-null  int64  \n",
      " 16  lat            21597 non-null  float64\n",
      " 17  long           21597 non-null  float64\n",
      " 18  sqft_living15  21597 non-null  int64  \n",
      " 19  sqft_lot15     21597 non-null  int64  \n",
      "dtypes: float64(2), int64(13), object(5)\n",
      "memory usage: 3.3+ MB\n"
     ]
    }
   ],
   "source": [
    "# changing them into their right datatypes\n",
    "house1 = house1.astype({'floors' : int, 'bathrooms' : int, 'yr_renovated': int, 'sqft_basement' : int, 'price' : int})\n",
    "house1.info()"
   ]
  },
  {
   "cell_type": "code",
   "execution_count": 19,
   "metadata": {
    "colab": {
     "base_uri": "https://localhost:8080/"
    },
    "id": "OeiLZBQsnALc",
    "outputId": "86a62643-b2da-4bd6-8558-b6a35eac6a22"
   },
   "outputs": [
    {
     "name": "stdout",
     "output_type": "stream",
     "text": [
      "<class 'pandas.core.frame.DataFrame'>\n",
      "RangeIndex: 21597 entries, 0 to 21596\n",
      "Data columns (total 20 columns):\n",
      " #   Column         Non-Null Count  Dtype         \n",
      "---  ------         --------------  -----         \n",
      " 0   date           21597 non-null  datetime64[ns]\n",
      " 1   price          21597 non-null  int64         \n",
      " 2   bedrooms       21597 non-null  int64         \n",
      " 3   bathrooms      21597 non-null  int64         \n",
      " 4   sqft_living    21597 non-null  int64         \n",
      " 5   sqft_lot       21597 non-null  int64         \n",
      " 6   floors         21597 non-null  int64         \n",
      " 7   waterfront     21597 non-null  object        \n",
      " 8   view           21597 non-null  object        \n",
      " 9   condition      21597 non-null  object        \n",
      " 10  grade          21597 non-null  object        \n",
      " 11  sqft_above     21597 non-null  int64         \n",
      " 12  sqft_basement  21597 non-null  int64         \n",
      " 13  yr_built       21597 non-null  int64         \n",
      " 14  yr_renovated   21597 non-null  int64         \n",
      " 15  zipcode        21597 non-null  int64         \n",
      " 16  lat            21597 non-null  float64       \n",
      " 17  long           21597 non-null  float64       \n",
      " 18  sqft_living15  21597 non-null  int64         \n",
      " 19  sqft_lot15     21597 non-null  int64         \n",
      "dtypes: datetime64[ns](1), float64(2), int64(13), object(4)\n",
      "memory usage: 3.3+ MB\n"
     ]
    }
   ],
   "source": [
    "# converting date into the correct datatype\n",
    "house1['date'] = pd.to_datetime(house1['date'])\n",
    "house1.info()"
   ]
  },
  {
   "cell_type": "code",
   "execution_count": 20,
   "metadata": {
    "colab": {
     "base_uri": "https://localhost:8080/",
     "height": 617
    },
    "id": "Wm-vVbTrs62F",
    "outputId": "abff5f18-77b6-40d9-a80b-1b06bafe115b"
   },
   "outputs": [
    {
     "data": {
      "text/html": [
       "<div>\n",
       "<style scoped>\n",
       "    .dataframe tbody tr th:only-of-type {\n",
       "        vertical-align: middle;\n",
       "    }\n",
       "\n",
       "    .dataframe tbody tr th {\n",
       "        vertical-align: top;\n",
       "    }\n",
       "\n",
       "    .dataframe thead th {\n",
       "        text-align: right;\n",
       "    }\n",
       "</style>\n",
       "<table border=\"1\" class=\"dataframe\">\n",
       "  <thead>\n",
       "    <tr style=\"text-align: right;\">\n",
       "      <th></th>\n",
       "      <th>date</th>\n",
       "      <th>price</th>\n",
       "      <th>bedrooms</th>\n",
       "      <th>bathrooms</th>\n",
       "      <th>sqft_living</th>\n",
       "      <th>sqft_lot</th>\n",
       "      <th>floors</th>\n",
       "      <th>waterfront</th>\n",
       "      <th>view</th>\n",
       "      <th>condition</th>\n",
       "      <th>grade</th>\n",
       "      <th>sqft_above</th>\n",
       "      <th>sqft_basement</th>\n",
       "      <th>yr_built</th>\n",
       "      <th>yr_renovated</th>\n",
       "      <th>zipcode</th>\n",
       "      <th>lat</th>\n",
       "      <th>long</th>\n",
       "      <th>sqft_living15</th>\n",
       "      <th>sqft_lot15</th>\n",
       "    </tr>\n",
       "  </thead>\n",
       "  <tbody>\n",
       "    <tr>\n",
       "      <th>0</th>\n",
       "      <td>2014-10-13</td>\n",
       "      <td>221900</td>\n",
       "      <td>3</td>\n",
       "      <td>1</td>\n",
       "      <td>1180</td>\n",
       "      <td>5650</td>\n",
       "      <td>1</td>\n",
       "      <td>NO</td>\n",
       "      <td>NONE</td>\n",
       "      <td>Average</td>\n",
       "      <td>7 Average</td>\n",
       "      <td>1180</td>\n",
       "      <td>0</td>\n",
       "      <td>1955</td>\n",
       "      <td>0</td>\n",
       "      <td>98178</td>\n",
       "      <td>47.5112</td>\n",
       "      <td>-122.257</td>\n",
       "      <td>1340</td>\n",
       "      <td>5650</td>\n",
       "    </tr>\n",
       "    <tr>\n",
       "      <th>1</th>\n",
       "      <td>2014-12-09</td>\n",
       "      <td>538000</td>\n",
       "      <td>3</td>\n",
       "      <td>2</td>\n",
       "      <td>2570</td>\n",
       "      <td>7242</td>\n",
       "      <td>2</td>\n",
       "      <td>NO</td>\n",
       "      <td>NONE</td>\n",
       "      <td>Average</td>\n",
       "      <td>7 Average</td>\n",
       "      <td>2170</td>\n",
       "      <td>400</td>\n",
       "      <td>1951</td>\n",
       "      <td>1991</td>\n",
       "      <td>98125</td>\n",
       "      <td>47.7210</td>\n",
       "      <td>-122.319</td>\n",
       "      <td>1690</td>\n",
       "      <td>7639</td>\n",
       "    </tr>\n",
       "    <tr>\n",
       "      <th>2</th>\n",
       "      <td>2015-02-25</td>\n",
       "      <td>180000</td>\n",
       "      <td>2</td>\n",
       "      <td>1</td>\n",
       "      <td>770</td>\n",
       "      <td>10000</td>\n",
       "      <td>1</td>\n",
       "      <td>NO</td>\n",
       "      <td>NONE</td>\n",
       "      <td>Average</td>\n",
       "      <td>6 Low Average</td>\n",
       "      <td>770</td>\n",
       "      <td>0</td>\n",
       "      <td>1933</td>\n",
       "      <td>0</td>\n",
       "      <td>98028</td>\n",
       "      <td>47.7379</td>\n",
       "      <td>-122.233</td>\n",
       "      <td>2720</td>\n",
       "      <td>8062</td>\n",
       "    </tr>\n",
       "    <tr>\n",
       "      <th>3</th>\n",
       "      <td>2014-12-09</td>\n",
       "      <td>604000</td>\n",
       "      <td>4</td>\n",
       "      <td>3</td>\n",
       "      <td>1960</td>\n",
       "      <td>5000</td>\n",
       "      <td>1</td>\n",
       "      <td>NO</td>\n",
       "      <td>NONE</td>\n",
       "      <td>Very Good</td>\n",
       "      <td>7 Average</td>\n",
       "      <td>1050</td>\n",
       "      <td>910</td>\n",
       "      <td>1965</td>\n",
       "      <td>0</td>\n",
       "      <td>98136</td>\n",
       "      <td>47.5208</td>\n",
       "      <td>-122.393</td>\n",
       "      <td>1360</td>\n",
       "      <td>5000</td>\n",
       "    </tr>\n",
       "    <tr>\n",
       "      <th>4</th>\n",
       "      <td>2015-02-18</td>\n",
       "      <td>510000</td>\n",
       "      <td>3</td>\n",
       "      <td>2</td>\n",
       "      <td>1680</td>\n",
       "      <td>8080</td>\n",
       "      <td>1</td>\n",
       "      <td>NO</td>\n",
       "      <td>NONE</td>\n",
       "      <td>Average</td>\n",
       "      <td>8 Good</td>\n",
       "      <td>1680</td>\n",
       "      <td>0</td>\n",
       "      <td>1987</td>\n",
       "      <td>0</td>\n",
       "      <td>98074</td>\n",
       "      <td>47.6168</td>\n",
       "      <td>-122.045</td>\n",
       "      <td>1800</td>\n",
       "      <td>7503</td>\n",
       "    </tr>\n",
       "    <tr>\n",
       "      <th>...</th>\n",
       "      <td>...</td>\n",
       "      <td>...</td>\n",
       "      <td>...</td>\n",
       "      <td>...</td>\n",
       "      <td>...</td>\n",
       "      <td>...</td>\n",
       "      <td>...</td>\n",
       "      <td>...</td>\n",
       "      <td>...</td>\n",
       "      <td>...</td>\n",
       "      <td>...</td>\n",
       "      <td>...</td>\n",
       "      <td>...</td>\n",
       "      <td>...</td>\n",
       "      <td>...</td>\n",
       "      <td>...</td>\n",
       "      <td>...</td>\n",
       "      <td>...</td>\n",
       "      <td>...</td>\n",
       "      <td>...</td>\n",
       "    </tr>\n",
       "    <tr>\n",
       "      <th>21592</th>\n",
       "      <td>2014-05-21</td>\n",
       "      <td>360000</td>\n",
       "      <td>3</td>\n",
       "      <td>2</td>\n",
       "      <td>1530</td>\n",
       "      <td>1131</td>\n",
       "      <td>3</td>\n",
       "      <td>NO</td>\n",
       "      <td>NONE</td>\n",
       "      <td>Average</td>\n",
       "      <td>8 Good</td>\n",
       "      <td>1530</td>\n",
       "      <td>0</td>\n",
       "      <td>2009</td>\n",
       "      <td>0</td>\n",
       "      <td>98103</td>\n",
       "      <td>47.6993</td>\n",
       "      <td>-122.346</td>\n",
       "      <td>1530</td>\n",
       "      <td>1509</td>\n",
       "    </tr>\n",
       "    <tr>\n",
       "      <th>21593</th>\n",
       "      <td>2015-02-23</td>\n",
       "      <td>400000</td>\n",
       "      <td>4</td>\n",
       "      <td>2</td>\n",
       "      <td>2310</td>\n",
       "      <td>5813</td>\n",
       "      <td>2</td>\n",
       "      <td>NO</td>\n",
       "      <td>NONE</td>\n",
       "      <td>Average</td>\n",
       "      <td>8 Good</td>\n",
       "      <td>2310</td>\n",
       "      <td>0</td>\n",
       "      <td>2014</td>\n",
       "      <td>0</td>\n",
       "      <td>98146</td>\n",
       "      <td>47.5107</td>\n",
       "      <td>-122.362</td>\n",
       "      <td>1830</td>\n",
       "      <td>7200</td>\n",
       "    </tr>\n",
       "    <tr>\n",
       "      <th>21594</th>\n",
       "      <td>2014-06-23</td>\n",
       "      <td>402101</td>\n",
       "      <td>2</td>\n",
       "      <td>0</td>\n",
       "      <td>1020</td>\n",
       "      <td>1350</td>\n",
       "      <td>2</td>\n",
       "      <td>NO</td>\n",
       "      <td>NONE</td>\n",
       "      <td>Average</td>\n",
       "      <td>7 Average</td>\n",
       "      <td>1020</td>\n",
       "      <td>0</td>\n",
       "      <td>2009</td>\n",
       "      <td>0</td>\n",
       "      <td>98144</td>\n",
       "      <td>47.5944</td>\n",
       "      <td>-122.299</td>\n",
       "      <td>1020</td>\n",
       "      <td>2007</td>\n",
       "    </tr>\n",
       "    <tr>\n",
       "      <th>21595</th>\n",
       "      <td>2015-01-16</td>\n",
       "      <td>400000</td>\n",
       "      <td>3</td>\n",
       "      <td>2</td>\n",
       "      <td>1600</td>\n",
       "      <td>2388</td>\n",
       "      <td>2</td>\n",
       "      <td>NO</td>\n",
       "      <td>NONE</td>\n",
       "      <td>Average</td>\n",
       "      <td>8 Good</td>\n",
       "      <td>1600</td>\n",
       "      <td>0</td>\n",
       "      <td>2004</td>\n",
       "      <td>0</td>\n",
       "      <td>98027</td>\n",
       "      <td>47.5345</td>\n",
       "      <td>-122.069</td>\n",
       "      <td>1410</td>\n",
       "      <td>1287</td>\n",
       "    </tr>\n",
       "    <tr>\n",
       "      <th>21596</th>\n",
       "      <td>2014-10-15</td>\n",
       "      <td>325000</td>\n",
       "      <td>2</td>\n",
       "      <td>0</td>\n",
       "      <td>1020</td>\n",
       "      <td>1076</td>\n",
       "      <td>2</td>\n",
       "      <td>NO</td>\n",
       "      <td>NONE</td>\n",
       "      <td>Average</td>\n",
       "      <td>7 Average</td>\n",
       "      <td>1020</td>\n",
       "      <td>0</td>\n",
       "      <td>2008</td>\n",
       "      <td>0</td>\n",
       "      <td>98144</td>\n",
       "      <td>47.5941</td>\n",
       "      <td>-122.299</td>\n",
       "      <td>1020</td>\n",
       "      <td>1357</td>\n",
       "    </tr>\n",
       "  </tbody>\n",
       "</table>\n",
       "<p>21597 rows × 20 columns</p>\n",
       "</div>"
      ],
      "text/plain": [
       "            date   price  bedrooms  bathrooms  sqft_living  sqft_lot  floors  \\\n",
       "0     2014-10-13  221900         3          1         1180      5650       1   \n",
       "1     2014-12-09  538000         3          2         2570      7242       2   \n",
       "2     2015-02-25  180000         2          1          770     10000       1   \n",
       "3     2014-12-09  604000         4          3         1960      5000       1   \n",
       "4     2015-02-18  510000         3          2         1680      8080       1   \n",
       "...          ...     ...       ...        ...          ...       ...     ...   \n",
       "21592 2014-05-21  360000         3          2         1530      1131       3   \n",
       "21593 2015-02-23  400000         4          2         2310      5813       2   \n",
       "21594 2014-06-23  402101         2          0         1020      1350       2   \n",
       "21595 2015-01-16  400000         3          2         1600      2388       2   \n",
       "21596 2014-10-15  325000         2          0         1020      1076       2   \n",
       "\n",
       "      waterfront  view  condition          grade  sqft_above  sqft_basement  \\\n",
       "0             NO  NONE    Average      7 Average        1180              0   \n",
       "1             NO  NONE    Average      7 Average        2170            400   \n",
       "2             NO  NONE    Average  6 Low Average         770              0   \n",
       "3             NO  NONE  Very Good      7 Average        1050            910   \n",
       "4             NO  NONE    Average         8 Good        1680              0   \n",
       "...          ...   ...        ...            ...         ...            ...   \n",
       "21592         NO  NONE    Average         8 Good        1530              0   \n",
       "21593         NO  NONE    Average         8 Good        2310              0   \n",
       "21594         NO  NONE    Average      7 Average        1020              0   \n",
       "21595         NO  NONE    Average         8 Good        1600              0   \n",
       "21596         NO  NONE    Average      7 Average        1020              0   \n",
       "\n",
       "       yr_built  yr_renovated  zipcode      lat     long  sqft_living15  \\\n",
       "0          1955             0    98178  47.5112 -122.257           1340   \n",
       "1          1951          1991    98125  47.7210 -122.319           1690   \n",
       "2          1933             0    98028  47.7379 -122.233           2720   \n",
       "3          1965             0    98136  47.5208 -122.393           1360   \n",
       "4          1987             0    98074  47.6168 -122.045           1800   \n",
       "...         ...           ...      ...      ...      ...            ...   \n",
       "21592      2009             0    98103  47.6993 -122.346           1530   \n",
       "21593      2014             0    98146  47.5107 -122.362           1830   \n",
       "21594      2009             0    98144  47.5944 -122.299           1020   \n",
       "21595      2004             0    98027  47.5345 -122.069           1410   \n",
       "21596      2008             0    98144  47.5941 -122.299           1020   \n",
       "\n",
       "       sqft_lot15  \n",
       "0            5650  \n",
       "1            7639  \n",
       "2            8062  \n",
       "3            5000  \n",
       "4            7503  \n",
       "...           ...  \n",
       "21592        1509  \n",
       "21593        7200  \n",
       "21594        2007  \n",
       "21595        1287  \n",
       "21596        1357  \n",
       "\n",
       "[21597 rows x 20 columns]"
      ]
     },
     "execution_count": 20,
     "metadata": {},
     "output_type": "execute_result"
    }
   ],
   "source": [
    "house1"
   ]
  },
  {
   "cell_type": "code",
   "execution_count": 21,
   "metadata": {
    "colab": {
     "base_uri": "https://localhost:8080/"
    },
    "id": "5taES1H3NyuX",
    "outputId": "c95515ec-e306-4dff-c38b-c498b960bb2d"
   },
   "outputs": [
    {
     "data": {
      "text/plain": [
       "np.int64(0)"
      ]
     },
     "execution_count": 21,
     "metadata": {},
     "output_type": "execute_result"
    }
   ],
   "source": [
    "# checking for duplicates\n",
    "house1.duplicated().sum()"
   ]
  },
  {
   "cell_type": "code",
   "execution_count": 22,
   "metadata": {
    "colab": {
     "base_uri": "https://localhost:8080/",
     "height": 443
    },
    "id": "EK40c-DRuIGI",
    "outputId": "06ccf707-3ee2-4136-c810-0aca2e59f6c7"
   },
   "outputs": [
    {
     "data": {
      "text/plain": [
       "<Axes: ylabel='price'>"
      ]
     },
     "execution_count": 22,
     "metadata": {},
     "output_type": "execute_result"
    },
    {
     "data": {
      "image/png": "[encoded data removed]",
      "text/plain": [
       "<Figure size 640x480 with 1 Axes>"
      ]
     },
     "metadata": {},
     "output_type": "display_data"
    }
   ],
   "source": [
    "# checking for outliers\n",
    "sns.boxplot(house1['price'])"
   ]
  },
  {
   "cell_type": "code",
   "execution_count": 23,
   "metadata": {
    "colab": {
     "base_uri": "https://localhost:8080/",
     "height": 428
    },
    "id": "P72QL-yELue1",
    "outputId": "9963e799-d861-470e-e45f-d19cb4fffc01"
   },
   "outputs": [
    {
     "data": {
      "text/plain": [
       "<Axes: ylabel='bathrooms'>"
      ]
     },
     "execution_count": 23,
     "metadata": {},
     "output_type": "execute_result"
    },
    {
     "data": {
      "image/png": "[encoded data removed]",
      "text/plain": [
       "<Figure size 640x480 with 1 Axes>"
      ]
     },
     "metadata": {},
     "output_type": "display_data"
    }
   ],
   "source": [
    "sns.boxplot(house1['bathrooms'])"
   ]
  },
  {
   "cell_type": "code",
   "execution_count": 24,
   "metadata": {
    "colab": {
     "base_uri": "https://localhost:8080/",
     "height": 428
    },
    "id": "vcv7XBbDMHbf",
    "outputId": "d23dd119-1dd2-4475-eea2-625c131ff2fb"
   },
   "outputs": [
    {
     "data": {
      "text/plain": [
       "<Axes: ylabel='bedrooms'>"
      ]
     },
     "execution_count": 24,
     "metadata": {},
     "output_type": "execute_result"
    },
    {
     "data": {
      "image/png": "[encoded data removed]",
      "text/plain": [
       "<Figure size 640x480 with 1 Axes>"
      ]
     },
     "metadata": {},
     "output_type": "display_data"
    }
   ],
   "source": [
    "sns.boxplot(house1['bedrooms'])"
   ]
  },
  {
   "cell_type": "code",
   "execution_count": 25,
   "metadata": {
    "colab": {
     "base_uri": "https://localhost:8080/",
     "height": 428
    },
    "id": "krMMufHYMZft",
    "outputId": "504ff553-5fcb-40c6-a23c-33407ede71e2"
   },
   "outputs": [
    {
     "data": {
      "text/plain": [
       "<Axes: ylabel='floors'>"
      ]
     },
     "execution_count": 25,
     "metadata": {},
     "output_type": "execute_result"
    },
    {
     "data": {
      "image/png": "[encoded data removed]",
      "text/plain": [
       "<Figure size 640x480 with 1 Axes>"
      ]
     },
     "metadata": {},
     "output_type": "display_data"
    }
   ],
   "source": [
    "sns.boxplot(house1['floors'])"
   ]
  },
  {
   "cell_type": "code",
   "execution_count": 26,
   "metadata": {
    "colab": {
     "base_uri": "https://localhost:8080/",
     "height": 147
    },
    "id": "k_RXnUivMqeJ",
    "outputId": "c939f11f-d385-4273-c70c-565a2f741087"
   },
   "outputs": [
    {
     "data": {
      "text/html": [
       "<div>\n",
       "<style scoped>\n",
       "    .dataframe tbody tr th:only-of-type {\n",
       "        vertical-align: middle;\n",
       "    }\n",
       "\n",
       "    .dataframe tbody tr th {\n",
       "        vertical-align: top;\n",
       "    }\n",
       "\n",
       "    .dataframe thead th {\n",
       "        text-align: right;\n",
       "    }\n",
       "</style>\n",
       "<table border=\"1\" class=\"dataframe\">\n",
       "  <thead>\n",
       "    <tr style=\"text-align: right;\">\n",
       "      <th></th>\n",
       "      <th>date</th>\n",
       "      <th>price</th>\n",
       "      <th>bedrooms</th>\n",
       "      <th>bathrooms</th>\n",
       "      <th>sqft_living</th>\n",
       "      <th>sqft_lot</th>\n",
       "      <th>floors</th>\n",
       "      <th>waterfront</th>\n",
       "      <th>view</th>\n",
       "      <th>condition</th>\n",
       "      <th>grade</th>\n",
       "      <th>sqft_above</th>\n",
       "      <th>sqft_basement</th>\n",
       "      <th>yr_built</th>\n",
       "      <th>yr_renovated</th>\n",
       "      <th>zipcode</th>\n",
       "      <th>lat</th>\n",
       "      <th>long</th>\n",
       "      <th>sqft_living15</th>\n",
       "      <th>sqft_lot15</th>\n",
       "    </tr>\n",
       "  </thead>\n",
       "  <tbody>\n",
       "    <tr>\n",
       "      <th>9933</th>\n",
       "      <td>2014-09-02</td>\n",
       "      <td>749500</td>\n",
       "      <td>4</td>\n",
       "      <td>2</td>\n",
       "      <td>2490</td>\n",
       "      <td>3840</td>\n",
       "      <td>1</td>\n",
       "      <td>NO</td>\n",
       "      <td>NONE</td>\n",
       "      <td>Good</td>\n",
       "      <td>7 Average</td>\n",
       "      <td>1610</td>\n",
       "      <td>880</td>\n",
       "      <td>1922</td>\n",
       "      <td>0</td>\n",
       "      <td>98103</td>\n",
       "      <td>47.6551</td>\n",
       "      <td>-122.344</td>\n",
       "      <td>1420</td>\n",
       "      <td>4000</td>\n",
       "    </tr>\n",
       "  </tbody>\n",
       "</table>\n",
       "</div>"
      ],
      "text/plain": [
       "           date   price  bedrooms  bathrooms  sqft_living  sqft_lot  floors  \\\n",
       "9933 2014-09-02  749500         4          2         2490      3840       1   \n",
       "\n",
       "     waterfront  view condition      grade  sqft_above  sqft_basement  \\\n",
       "9933         NO  NONE      Good  7 Average        1610            880   \n",
       "\n",
       "      yr_built  yr_renovated  zipcode      lat     long  sqft_living15  \\\n",
       "9933      1922             0    98103  47.6551 -122.344           1420   \n",
       "\n",
       "      sqft_lot15  \n",
       "9933        4000  "
      ]
     },
     "execution_count": 26,
     "metadata": {},
     "output_type": "execute_result"
    }
   ],
   "source": [
    "house1.sample()"
   ]
  },
  {
   "cell_type": "code",
   "execution_count": 27,
   "metadata": {
    "colab": {
     "base_uri": "https://localhost:8080/",
     "height": 428
    },
    "id": "ig437krvMzIN",
    "outputId": "9904a526-0aa4-40cc-d4b2-daad3394004c"
   },
   "outputs": [
    {
     "data": {
      "text/plain": [
       "<Axes: ylabel='sqft_living'>"
      ]
     },
     "execution_count": 27,
     "metadata": {},
     "output_type": "execute_result"
    },
    {
     "data": {
      "image/png": "[encoded data removed]",
      "text/plain": [
       "<Figure size 640x480 with 1 Axes>"
      ]
     },
     "metadata": {},
     "output_type": "display_data"
    }
   ],
   "source": [
    "sns.boxplot(house1['sqft_living'])"
   ]
  },
  {
   "cell_type": "code",
   "execution_count": 28,
   "metadata": {
    "colab": {
     "base_uri": "https://localhost:8080/",
     "height": 429
    },
    "id": "1-lRrqIkNcik",
    "outputId": "cd932f67-5c89-4d08-98d5-2a2702f3659b"
   },
   "outputs": [
    {
     "data": {
      "text/plain": [
       "<Axes: ylabel='sqft_above'>"
      ]
     },
     "execution_count": 28,
     "metadata": {},
     "output_type": "execute_result"
    },
    {
     "data": {
      "image/png": "[encoded data removed]",
      "text/plain": [
       "<Figure size 640x480 with 1 Axes>"
      ]
     },
     "metadata": {},
     "output_type": "display_data"
    }
   ],
   "source": [
    "sns.boxplot(house1['sqft_above'])"
   ]
  },
  {
   "cell_type": "code",
   "execution_count": 29,
   "metadata": {
    "colab": {
     "base_uri": "https://localhost:8080/",
     "height": 443
    },
    "id": "LLkrDTnlNkKa",
    "outputId": "642022ea-5250-4181-8715-a79f68fe32f8"
   },
   "outputs": [
    {
     "data": {
      "text/plain": [
       "<Axes: ylabel='sqft_lot'>"
      ]
     },
     "execution_count": 29,
     "metadata": {},
     "output_type": "execute_result"
    },
    {
     "data": {
      "image/png": "[encoded data removed]",
      "text/plain": [
       "<Figure size 640x480 with 1 Axes>"
      ]
     },
     "metadata": {},
     "output_type": "display_data"
    }
   ],
   "source": [
    "sns.boxplot(house1['sqft_lot'])"
   ]
  },
  {
   "cell_type": "code",
   "execution_count": 30,
   "metadata": {
    "colab": {
     "base_uri": "https://localhost:8080/",
     "height": 428
    },
    "id": "k-KW793lNtz9",
    "outputId": "f61f7224-c069-425f-a06f-f976726fe591"
   },
   "outputs": [
    {
     "data": {
      "text/plain": [
       "<Axes: ylabel='sqft_living15'>"
      ]
     },
     "execution_count": 30,
     "metadata": {},
     "output_type": "execute_result"
    },
    {
     "data": {
      "image/png": "[encoded data removed]",
      "text/plain": [
       "<Figure size 640x480 with 1 Axes>"
      ]
     },
     "metadata": {},
     "output_type": "display_data"
    }
   ],
   "source": [
    "sns.boxplot(house1['sqft_living15'])"
   ]
  },
  {
   "cell_type": "code",
   "execution_count": 31,
   "metadata": {
    "colab": {
     "base_uri": "https://localhost:8080/",
     "height": 431
    },
    "id": "Nt_7RPFTN1so",
    "outputId": "52f25156-95ab-4a54-a64a-3c44c531cba5"
   },
   "outputs": [
    {
     "data": {
      "text/plain": [
       "<Axes: ylabel='yr_built'>"
      ]
     },
     "execution_count": 31,
     "metadata": {},
     "output_type": "execute_result"
    },
    {
     "data": {
      "image/png": "[encoded data removed]",
      "text/plain": [
       "<Figure size 640x480 with 1 Axes>"
      ]
     },
     "metadata": {},
     "output_type": "display_data"
    }
   ],
   "source": [
    "sns.boxplot(house1['yr_built'])"
   ]
  },
  {
   "cell_type": "code",
   "execution_count": 32,
   "metadata": {
    "colab": {
     "base_uri": "https://localhost:8080/",
     "height": 428
    },
    "id": "Han784_AN-EK",
    "outputId": "8673ec4f-e7c3-46ce-d97f-8aa7b7bb3898"
   },
   "outputs": [
    {
     "data": {
      "text/plain": [
       "<Axes: ylabel='yr_renovated'>"
      ]
     },
     "execution_count": 32,
     "metadata": {},
     "output_type": "execute_result"
    },
    {
     "data": {
      "image/png": "[encoded data removed]",
      "text/plain": [
       "<Figure size 640x480 with 1 Axes>"
      ]
     },
     "metadata": {},
     "output_type": "display_data"
    }
   ],
   "source": [
    "sns.boxplot(house1['yr_renovated'])"
   ]
  },
  {
   "cell_type": "code",
   "execution_count": 33,
   "metadata": {
    "colab": {
     "base_uri": "https://localhost:8080/",
     "height": 428
    },
    "id": "vkhhzKRJOOb3",
    "outputId": "e47ecfcd-23e2-4365-85a0-d153e16cae19"
   },
   "outputs": [
    {
     "data": {
      "text/plain": [
       "<Axes: ylabel='sqft_lot15'>"
      ]
     },
     "execution_count": 33,
     "metadata": {},
     "output_type": "execute_result"
    },
    {
     "data": {
      "image/png": "[encoded data removed]",
      "text/plain": [
       "<Figure size 640x480 with 1 Axes>"
      ]
     },
     "metadata": {},
     "output_type": "display_data"
    }
   ],
   "source": [
    "sns.boxplot(house1['sqft_lot15'])\n"
   ]
  },
  {
   "cell_type": "code",
   "execution_count": 34,
   "metadata": {
    "colab": {
     "base_uri": "https://localhost:8080/",
     "height": 429
    },
    "id": "H7TZPMZkP4R2",
    "outputId": "f8b48978-9b1d-46c4-863e-93cc8114e5c0"
   },
   "outputs": [
    {
     "data": {
      "text/plain": [
       "<Axes: ylabel='sqft_basement'>"
      ]
     },
     "execution_count": 34,
     "metadata": {},
     "output_type": "execute_result"
    },
    {
     "data": {
      "image/png": "[encoded data removed]",
      "text/plain": [
       "<Figure size 640x480 with 1 Axes>"
      ]
     },
     "metadata": {},
     "output_type": "display_data"
    }
   ],
   "source": [
    "sns.boxplot(house1['sqft_basement'])"
   ]
  },
  {
   "cell_type": "code",
   "execution_count": 35,
   "metadata": {
    "colab": {
     "base_uri": "https://localhost:8080/",
     "height": 411
    },
    "id": "3mjPU6CKQGeD",
    "outputId": "faf85816-7f4e-4ac0-d84b-02e87854c019"
   },
   "outputs": [
    {
     "data": {
      "image/png": "[encoded data removed]",
      "text/plain": [
       "<Figure size 640x480 with 1 Axes>"
      ]
     },
     "metadata": {},
     "output_type": "display_data"
    }
   ],
   "source": [
    "# calculating the iqr for bedroom\n",
    "q3 = house1['bedrooms'].quantile(0.75)\n",
    "q1 = house1['bedrooms'].quantile(0.25)\n",
    "\n",
    "iqr = q3 - q1\n",
    "\n",
    "lower_bound = q1 - (1.5 * iqr)\n",
    "upper_bound = q3 + (1.5 * iqr)\n",
    "\n",
    "# removing outlier for bedrooms by filtering\n",
    "house2 = house1[(house1['bedrooms'] >= lower_bound) & (house1['bedrooms'] <= upper_bound)]\n",
    "house2\n",
    "\n",
    "# Plotting the result\n",
    "sns.boxplot(y=house2['bedrooms'], color='#3e675d');"
   ]
  },
  {
   "cell_type": "code",
   "execution_count": 36,
   "metadata": {
    "colab": {
     "base_uri": "https://localhost:8080/",
     "height": 411
    },
    "id": "i0oO7HAKxLpP",
    "outputId": "a60e96cc-7b0f-42e6-c76c-cd50bc58ccb6"
   },
   "outputs": [
    {
     "data": {
      "image/png": "[encoded data removed]",
      "text/plain": [
       "<Figure size 640x480 with 1 Axes>"
      ]
     },
     "metadata": {},
     "output_type": "display_data"
    }
   ],
   "source": [
    "# calculating the iqr for sqft_above\n",
    "q3 = house1['sqft_above'].quantile(0.75)\n",
    "q1 = house1['sqft_above'].quantile(0.25)\n",
    "\n",
    "iqr = q3 - q1\n",
    "\n",
    "lower_bound = q1 - (1.5 * iqr)\n",
    "upper_bound = q3 + (1.5 * iqr)\n",
    "\n",
    "# removing outlier for sqft_above by filtering\n",
    "house3 = house1[(house1['sqft_above'] >= lower_bound) & (house1['sqft_above'] <= upper_bound)]\n",
    "\n",
    "#plotting the result\n",
    "sns.boxplot(y=house3['sqft_above'], color='#3e675d');"
   ]
  },
  {
   "cell_type": "code",
   "execution_count": 37,
   "metadata": {
    "colab": {
     "base_uri": "https://localhost:8080/",
     "height": 411
    },
    "id": "a0KsZ4vugPdh",
    "outputId": "aa274dfc-576a-4384-d9fc-2b6a7e816738"
   },
   "outputs": [
    {
     "data": {
      "image/png": "[encoded data removed]",
      "text/plain": [
       "<Figure size 640x480 with 1 Axes>"
      ]
     },
     "metadata": {},
     "output_type": "display_data"
    }
   ],
   "source": [
    "# calculating the iqr for bathrooms\n",
    "q3 = house1['bathrooms'].quantile(0.75)\n",
    "q1 = house1['bathrooms'].quantile(0.25)\n",
    "\n",
    "iqr = q3 - q1\n",
    "\n",
    "lower_bound = q1 - (1.5 * iqr)\n",
    "upper_bound = q3 + (1.5 * iqr)\n",
    "\n",
    "# removing outlier for bathrooms by filtering\n",
    "house4= house1[(house1['bathrooms'] >= lower_bound) & (house1['bathrooms'] <= upper_bound)]\n",
    "\n",
    "# plotting the result\n",
    "sns.boxplot(y=house4['bathrooms'], color= '#3e675d');"
   ]
  },
  {
   "cell_type": "code",
   "execution_count": 38,
   "metadata": {
    "colab": {
     "base_uri": "https://localhost:8080/",
     "height": 426
    },
    "id": "NuuwzoJRgPab",
    "outputId": "8fb5cdfc-bece-4264-addb-302a96e1208a"
   },
   "outputs": [
    {
     "data": {
      "image/png": "[encoded data removed]",
      "text/plain": [
       "<Figure size 640x480 with 1 Axes>"
      ]
     },
     "metadata": {},
     "output_type": "display_data"
    }
   ],
   "source": [
    "# calculating the iqr for price\n",
    "q3 = house1['price'].quantile(0.75)\n",
    "q1 = house1['price'].quantile(0.25)\n",
    "\n",
    "iqr = q3 - q1\n",
    "\n",
    "lower_bound = q1 - (1.5 * iqr)\n",
    "upper_bound = q3 + (1.5 * iqr)\n",
    "\n",
    "# removing outlier for price by filtering\n",
    "house5= house1[(house1['price'] >= lower_bound) & (house1['price'] <= upper_bound)]\n",
    "\n",
    "# plotting the result\n",
    "sns.boxplot(y=house5['price'], color= '#3e675d');"
   ]
  },
  {
   "cell_type": "code",
   "execution_count": 39,
   "metadata": {
    "colab": {
     "base_uri": "https://localhost:8080/",
     "height": 411
    },
    "id": "0won5MMxks8S",
    "outputId": "44900a47-10e7-4138-afd1-167fa1a16269"
   },
   "outputs": [
    {
     "data": {
      "image/png": "[encoded data removed]",
      "text/plain": [
       "<Figure size 640x480 with 1 Axes>"
      ]
     },
     "metadata": {},
     "output_type": "display_data"
    }
   ],
   "source": [
    "# calculating the iqr for sqft_living\n",
    "q3 = house1['sqft_living'].quantile(0.75)\n",
    "q1 = house1['sqft_living'].quantile(0.25)\n",
    "\n",
    "iqr = q3 - q1\n",
    "\n",
    "lower_bound = q1 - (1.5 * iqr)\n",
    "upper_bound = q3 + (1.5 * iqr)\n",
    "\n",
    "# removing outlier for sqft_living by filtering\n",
    "house6= house1[(house1['sqft_living'] >= lower_bound) & (house1['sqft_living'] <= upper_bound)]\n",
    "\n",
    "# plotting the result\n",
    "sns.boxplot(y=house6['sqft_living'], color= '#3e675d');"
   ]
  },
  {
   "cell_type": "code",
   "execution_count": 40,
   "metadata": {
    "colab": {
     "base_uri": "https://localhost:8080/",
     "height": 415
    },
    "id": "Rc8br3mPlocU",
    "outputId": "5f289143-86e5-4492-e1f6-101a58ea18fc"
   },
   "outputs": [
    {
     "data": {
      "image/png": "[encoded data removed]",
      "text/plain": [
       "<Figure size 640x480 with 1 Axes>"
      ]
     },
     "metadata": {},
     "output_type": "display_data"
    }
   ],
   "source": [
    "# calculating the iqr for sqft_lot\n",
    "q3 = house1['sqft_lot'].quantile(0.75)\n",
    "q1 = house1['sqft_lot'].quantile(0.25)\n",
    "\n",
    "iqr = q3 - q1\n",
    "\n",
    "lower_bound = q1 - (1.5 * iqr)\n",
    "upper_bound = q3 + (1.5 * iqr)\n",
    "\n",
    "# removing outlier for sqft_lot by filtering\n",
    "house7= house1[(house1['sqft_lot'] >= lower_bound) & (house1['sqft_lot'] <= upper_bound)]\n",
    "\n",
    "# plotting the result\n",
    "sns.boxplot(y=house7['sqft_lot'], color= '#3e675d');"
   ]
  },
  {
   "cell_type": "code",
   "execution_count": 41,
   "metadata": {
    "colab": {
     "base_uri": "https://localhost:8080/",
     "height": 411
    },
    "id": "NoNGusV3mPrx",
    "outputId": "6227b28d-3fb5-41d2-8ac5-427fd1270781"
   },
   "outputs": [
    {
     "data": {
      "image/png": "[encoded data removed]",
      "text/plain": [
       "<Figure size 640x480 with 1 Axes>"
      ]
     },
     "metadata": {},
     "output_type": "display_data"
    }
   ],
   "source": [
    "# calculating the iqr for sqft_living15\n",
    "q3 = house1['sqft_living15'].quantile(0.75)\n",
    "q1 = house1['sqft_living15'].quantile(0.25)\n",
    "\n",
    "iqr = q3 - q1\n",
    "\n",
    "lower_bound = q1 - (1.5 * iqr)\n",
    "upper_bound = q3 + (1.5 * iqr)\n",
    "\n",
    "# removing outlier for sqft_living15 by filtering\n",
    "house8= house1[(house1['sqft_living15'] >= lower_bound) & (house1['sqft_living15'] <= upper_bound)]\n",
    "\n",
    "# plotting the result\n",
    "sns.boxplot(y=house8['sqft_living15'], color= '#3e675d');"
   ]
  },
  {
   "cell_type": "code",
   "execution_count": 42,
   "metadata": {
    "colab": {
     "base_uri": "https://localhost:8080/",
     "height": 411
    },
    "id": "TwOw4q1zmwIU",
    "outputId": "1d7bd8d5-110d-4f5a-8e5e-e7896645a3e0"
   },
   "outputs": [
    {
     "data": {
      "image/png": "[encoded data removed]",
      "text/plain": [
       "<Figure size 640x480 with 1 Axes>"
      ]
     },
     "metadata": {},
     "output_type": "display_data"
    }
   ],
   "source": [
    "# calculating the iqr for sqft_lot15\n",
    "q3 = house1['sqft_lot15'].quantile(0.75)\n",
    "q1 = house1['sqft_lot15'].quantile(0.25)\n",
    "\n",
    "iqr = q3 - q1\n",
    "\n",
    "lower_bound = q1 - (1.5 * iqr)\n",
    "upper_bound = q3 + (1.5 * iqr)\n",
    "\n",
    "# removing outlier for sqft_lot15 by filtering\n",
    "house9= house1[(house1['sqft_lot15'] >= lower_bound) & (house1['sqft_lot15'] <= upper_bound)]\n",
    "\n",
    "# plotting the result\n",
    "sns.boxplot(y=house9['sqft_lot15'], color= '#3e675d');"
   ]
  },
  {
   "cell_type": "code",
   "execution_count": 43,
   "metadata": {
    "colab": {
     "base_uri": "https://localhost:8080/",
     "height": 411
    },
    "id": "Sim5ABKDmwFu",
    "outputId": "cec98cd7-b97e-4bb8-e7c0-c67008a7c241"
   },
   "outputs": [
    {
     "data": {
      "image/png": "[encoded data removed]",
      "text/plain": [
       "<Figure size 640x480 with 1 Axes>"
      ]
     },
     "metadata": {},
     "output_type": "display_data"
    }
   ],
   "source": [
    "# calculating the iqr for basement\n",
    "q3 = house1['sqft_basement'].quantile(0.75)\n",
    "q1 = house1['sqft_basement'].quantile(0.25)\n",
    "\n",
    "iqr = q3 - q1\n",
    "\n",
    "lower_bound = q1 - (1.5 * iqr)\n",
    "upper_bound = q3 + (1.5 * iqr)\n",
    "\n",
    "# removing outlier for basement by filtering\n",
    "house10= house1[(house1['sqft_basement'] >= lower_bound) & (house1['sqft_basement'] <= upper_bound)]\n",
    "\n",
    "# plotting the result\n",
    "sns.boxplot(y=house10['sqft_basement'], color= '#3e675d');"
   ]
  },
  {
   "cell_type": "code",
   "execution_count": 44,
   "metadata": {
    "colab": {
     "base_uri": "https://localhost:8080/"
    },
    "id": "6LrfVgM8mv3C",
    "outputId": "93a64e50-d3fb-4a4b-c1b2-67fc5fc67aa8"
   },
   "outputs": [
    {
     "data": {
      "text/plain": [
       "Index(['date', 'price', 'bedrooms', 'bathrooms', 'sqft_living', 'sqft_lot',\n",
       "       'floors', 'waterfront', 'view', 'condition', 'grade', 'sqft_above',\n",
       "       'sqft_basement', 'yr_built', 'yr_renovated', 'zipcode', 'lat', 'long',\n",
       "       'sqft_living15', 'sqft_lot15'],\n",
       "      dtype='object')"
      ]
     },
     "execution_count": 44,
     "metadata": {},
     "output_type": "execute_result"
    }
   ],
   "source": [
    "house1.columns"
   ]
  },
  {
   "cell_type": "code",
   "execution_count": 45,
   "metadata": {
    "colab": {
     "base_uri": "https://localhost:8080/",
     "height": 472
    },
    "id": "8qFrid1-3GGV",
    "outputId": "3b5453ea-e075-4238-9c40-b2429acf83a7"
   },
   "outputs": [
    {
     "data": {
      "image/png": "[encoded data removed]",
      "text/plain": [
       "<Figure size 640x480 with 1 Axes>"
      ]
     },
     "metadata": {},
     "output_type": "display_data"
    }
   ],
   "source": [
    "# checking relationship between price and condition\n",
    "sns.scatterplot(x='condition', y='price', data=house1, color='#6f4141')\n",
    "plt.title(\"Price vs Condition\");"
   ]
  },
  {
   "cell_type": "markdown",
   "metadata": {
    "id": "fBp1DZcyCx4b"
   },
   "source": [
    "Observations :  Houses in poor conditions have the lowest range of prices"
   ]
  },
  {
   "cell_type": "markdown",
   "metadata": {},
   "source": [
    "Observation : Houses in average conditions have their prices fairly distributed"
   ]
  },
  {
   "cell_type": "markdown",
   "metadata": {},
   "source": [
    "Observation: Houses in very good condition have their prices ranging from 0 to 4"
   ]
  },
  {
   "cell_type": "code",
   "execution_count": 46,
   "metadata": {
    "id": "1E2j8xIfHGkG"
   },
   "outputs": [
    {
     "data": {
      "image/png": "[encoded data removed]",
      "text/plain": [
       "<Figure size 640x480 with 1 Axes>"
      ]
     },
     "metadata": {},
     "output_type": "display_data"
    }
   ],
   "source": [
    "# relationship between\n",
    "grp4 = house1.groupby([\"grade\"], observed=False)[[\"sqft_lot\",\"sqft_living\"]].sum()\n",
    "grp4.plot(kind=\"bar\",color=['#ce7173','#31291f'])\n",
    "plt.title(\"Sqft_lot, Sqft_living, Grade\",fontsize=10);"
   ]
  },
  {
   "cell_type": "markdown",
   "metadata": {},
   "source": [
    "Observation: In all grades, sqft_lot is larger than sqft_living. Both Poor and Low grades have their sqft_lot and sqft_living as trace values"
   ]
  },
  {
   "cell_type": "code",
   "execution_count": 51,
   "metadata": {},
   "outputs": [
    {
     "data": {
      "image/png": "[encoded data removed]",
      "text/plain": [
       "<Figure size 640x480 with 1 Axes>"
      ]
     },
     "metadata": {},
     "output_type": "display_data"
    }
   ],
   "source": [
    "# relationship between view vs price\n",
    "sns.scatterplot(x='view', y='price', data=house1, color='#3e675d');"
   ]
  },
  {
   "cell_type": "markdown",
   "metadata": {},
   "source": [
    "Observation: Houses with Good and Excellent views have fairly high prices. Houses with Fair and Average have prices from 0 to 4. Houses  with no view have prices ranging from 0 to 6. "
   ]
  },
  {
   "cell_type": "code",
   "execution_count": 48,
   "metadata": {
    "colab": {
     "base_uri": "https://localhost:8080/",
     "height": 483
    },
    "id": "0j9JvOMuKtBl",
    "outputId": "c908c17f-6cef-42ec-b8ed-cb311830d694"
   },
   "outputs": [
    {
     "data": {
      "image/png": "[encoded data removed]",
      "text/plain": [
       "<Figure size 640x480 with 1 Axes>"
      ]
     },
     "metadata": {},
     "output_type": "display_data"
    }
   ],
   "source": [
    "# finding 1  - checking relationship between price and grade\n",
    "sns.boxplot(y='price', x='grade', data=house1, color=\"#ce7173\")\n",
    "plt.title(\"Price vs Grade\");"
   ]
  },
  {
   "cell_type": "markdown",
   "metadata": {},
   "source": [
    "Finding 1 : Poorly defined grading system makes it difficult for visualization to take place, for instance in the visual above, it is difficult to see the grade labels as they are too long making them to overlap each other\n"
   ]
  },
  {
   "cell_type": "markdown",
   "metadata": {},
   "source": [
    "Recommendation: Efforts towards improving the grading system needs to be taken so as to create better insights for future analysis and market trends"
   ]
  },
  {
   "cell_type": "code",
   "execution_count": 52,
   "metadata": {},
   "outputs": [
    {
     "data": {
      "image/png": "[encoded data removed]",
      "text/plain": [
       "<Figure size 640x480 with 1 Axes>"
      ]
     },
     "metadata": {},
     "output_type": "display_data"
    }
   ],
   "source": [
    "# relationship between view vs price\n",
    "sns.scatterplot(x='view', y='price', data=house1, color=\"#3e675d\");"
   ]
  },
  {
   "cell_type": "markdown",
   "metadata": {},
   "source": [
    "Finding 2: In the visual above, although the view has been categorised into Good, Excellent, e.t.c, it is very difficult to spot price variations and how the view can impact the price.  "
   ]
  },
  {
   "cell_type": "markdown",
   "metadata": {},
   "source": [
    "Recommendation: Efforts to improve classifications such as view and relate the classfication to other variables like price needs to be taken action so as to prove how the view impacts the price"
   ]
  },
  {
   "cell_type": "code",
   "execution_count": 53,
   "metadata": {},
   "outputs": [
    {
     "data": {
      "image/png": "[encoded data removed]",
      "text/plain": [
       "<Figure size 640x480 with 1 Axes>"
      ]
     },
     "metadata": {},
     "output_type": "display_data"
    }
   ],
   "source": [
    "# checking relationship between price and condition\n",
    "sns.scatterplot(x='condition', y='price', data=house1, color='#6f4141')\n",
    "plt.title(\"Price vs Condition\");"
   ]
  },
  {
   "cell_type": "markdown",
   "metadata": {},
   "source": [
    "Finding 3: In the visual above, house conditions has failed to distictively impacted the price as expected."
   ]
  },
  {
   "cell_type": "markdown",
   "metadata": {},
   "source": [
    "Recommendation: Condition of houses should distictively  impact the price of the houses, for instance, houses in very good condition should be valued more than averaged houses"
   ]
  },
  {
   "cell_type": "code",
   "execution_count": 54,
   "metadata": {},
   "outputs": [],
   "source": [
    "# save the cleaned dataset\n",
    "house1.to_csv(\"cleaned_data.csv\", index=False)  "
   ]
  },
  {
   "cell_type": "code",
   "execution_count": null,
   "metadata": {},
   "outputs": [],
   "source": []
  }
 ],
 "metadata": {
  "colab": {
   "provenance": []
  },
  "kernelspec": {
   "display_name": "Python 3 (ipykernel)",
   "language": "python",
   "name": "python3"
  },
  "language_info": {
   "codemirror_mode": {
    "name": "ipython",
    "version": 3
   },
   "file_extension": ".py",
   "mimetype": "text/x-python",
   "name": "python",
   "nbconvert_exporter": "python",
   "pygments_lexer": "ipython3",
   "version": "3.12.3"
  }
 },
 "nbformat": 4,
 "nbformat_minor": 1
}
